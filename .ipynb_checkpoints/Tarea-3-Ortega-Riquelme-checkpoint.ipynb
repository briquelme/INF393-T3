{
 "cells": [
  {
   "cell_type": "markdown",
   "metadata": {},
   "source": [
    "<img src=\"http://www.exalumnos.usm.cl/wp-content/uploads/2015/06/Isotipo-Negro.gif\" title=\"Title text\" width=\"20%\" height=\"20%\" />\n",
    "\n",
    "\n",
    "<hr style=\"height:2px;border:none\"/>\n",
    "<h1 align='center'> INF-393 Máquinas de Aprendizaje II-2018 </h1>\n",
    "\n",
    "<H3 align='center'> Tarea 3 - Ensamblados y modelos avanzados </H3>\n",
    "<hr style=\"height:2px;border:none\"/>\n",
    "\n",
    "<H4 align = 'center'>Gabriel Ortega </H4>\n",
    "<H4 align = 'center'>Benjamín Riquelme </H4>"
   ]
  },
  {
   "cell_type": "markdown",
   "metadata": {},
   "source": [
    "## 1. Calidad de un vino\n",
    "---\n",
    "\n",
    "Existen muchas variedades de vino existentes debido a los distintos gustos que tienen las personas. Del gusto se desprende la calidad que una persona le podría asignar a un vino, el cual proviene del gusto de la persona en particular, o bien, a la gran cantidad de quı́micos y procesos que se aplican a la producción de vino. Para el área de negocios, el estimar cuál es la calidad de un vino en base a la apreciación del público es una tarea bastante difı́cil.  \n",
    "Para esta actividad se trabajará con dos *datasets* asociados a las variantes tinto y blanco del vino portugués\n",
    "”Vinho Verde”[[1]](#refs). Debido a temas privados solo se cuenta con las caracterı́stcas fisioquı́micas asociadas a un\n",
    "vino en particular, los cuales corresponden a 11 atributos numéricos descritos en el siguiente __[link](http://archive.ics.uci.edu/ml/machine-learning-databases/wine-quality/winequality.names)__.\n",
    "\n",
    "Este problema puede ser abordado como clasificación de 11 clases o de regresión, ya que el atributo a estimar,\n",
    "*quality*, tiene un dominio como valor entero 0 y 10. La forma de resolverlo será a través de **ensamblados**.\n",
    "\n",
    "<img src=\"https://uploads.toptal.io/blog/image/92064/toptal-blog-image-1454584112948-fc1d35939aa1886bf30c816b3ac20e21.jpg\" title=\"Title text\" width=\"20%\"  />\n",
    "\n",
    "\n",
    "> a) Carge los dos dataset en un único dataframe de pandas, además de agregar una columna indicando si es vino tinto o blanco. Describa el dataset a trabajar.\n",
    "\n",
    "Debido a que se deben juntar 2 datasets, uno de vino tinto y otro de vino blanco, se creara una columna \"tipo\" y se asiganará el valor 1 al vino blanco y el valor 2 al vino tinto, esto es para que se sigan teniendo datos solamente de índoles numérico, encontramos que esto tiene más sentido al valor 0 o 1 ya que eso es más referente a presencia de atributo o no."
   ]
  },
  {
   "cell_type": "code",
   "execution_count": 1,
   "metadata": {},
   "outputs": [
    {
     "data": {
      "text/html": [
       "<div>\n",
       "<style scoped>\n",
       "    .dataframe tbody tr th:only-of-type {\n",
       "        vertical-align: middle;\n",
       "    }\n",
       "\n",
       "    .dataframe tbody tr th {\n",
       "        vertical-align: top;\n",
       "    }\n",
       "\n",
       "    .dataframe thead th {\n",
       "        text-align: right;\n",
       "    }\n",
       "</style>\n",
       "<table border=\"1\" class=\"dataframe\">\n",
       "  <thead>\n",
       "    <tr style=\"text-align: right;\">\n",
       "      <th></th>\n",
       "      <th>fixed acidity</th>\n",
       "      <th>volatile acidity</th>\n",
       "      <th>citric acid</th>\n",
       "      <th>residual sugar</th>\n",
       "      <th>chlorides</th>\n",
       "      <th>free sulfur dioxide</th>\n",
       "      <th>total sulfur dioxide</th>\n",
       "      <th>density</th>\n",
       "      <th>pH</th>\n",
       "      <th>sulphates</th>\n",
       "      <th>alcohol</th>\n",
       "      <th>quality</th>\n",
       "      <th>tipo</th>\n",
       "    </tr>\n",
       "  </thead>\n",
       "  <tbody>\n",
       "    <tr>\n",
       "      <th>0</th>\n",
       "      <td>7.4</td>\n",
       "      <td>0.70</td>\n",
       "      <td>0.00</td>\n",
       "      <td>1.9</td>\n",
       "      <td>0.076</td>\n",
       "      <td>11.0</td>\n",
       "      <td>34.0</td>\n",
       "      <td>0.9978</td>\n",
       "      <td>3.51</td>\n",
       "      <td>0.56</td>\n",
       "      <td>9.4</td>\n",
       "      <td>5</td>\n",
       "      <td>2</td>\n",
       "    </tr>\n",
       "    <tr>\n",
       "      <th>1</th>\n",
       "      <td>7.8</td>\n",
       "      <td>0.88</td>\n",
       "      <td>0.00</td>\n",
       "      <td>2.6</td>\n",
       "      <td>0.098</td>\n",
       "      <td>25.0</td>\n",
       "      <td>67.0</td>\n",
       "      <td>0.9968</td>\n",
       "      <td>3.20</td>\n",
       "      <td>0.68</td>\n",
       "      <td>9.8</td>\n",
       "      <td>5</td>\n",
       "      <td>2</td>\n",
       "    </tr>\n",
       "    <tr>\n",
       "      <th>2</th>\n",
       "      <td>7.8</td>\n",
       "      <td>0.76</td>\n",
       "      <td>0.04</td>\n",
       "      <td>2.3</td>\n",
       "      <td>0.092</td>\n",
       "      <td>15.0</td>\n",
       "      <td>54.0</td>\n",
       "      <td>0.9970</td>\n",
       "      <td>3.26</td>\n",
       "      <td>0.65</td>\n",
       "      <td>9.8</td>\n",
       "      <td>5</td>\n",
       "      <td>2</td>\n",
       "    </tr>\n",
       "    <tr>\n",
       "      <th>3</th>\n",
       "      <td>11.2</td>\n",
       "      <td>0.28</td>\n",
       "      <td>0.56</td>\n",
       "      <td>1.9</td>\n",
       "      <td>0.075</td>\n",
       "      <td>17.0</td>\n",
       "      <td>60.0</td>\n",
       "      <td>0.9980</td>\n",
       "      <td>3.16</td>\n",
       "      <td>0.58</td>\n",
       "      <td>9.8</td>\n",
       "      <td>6</td>\n",
       "      <td>2</td>\n",
       "    </tr>\n",
       "    <tr>\n",
       "      <th>4</th>\n",
       "      <td>7.4</td>\n",
       "      <td>0.70</td>\n",
       "      <td>0.00</td>\n",
       "      <td>1.9</td>\n",
       "      <td>0.076</td>\n",
       "      <td>11.0</td>\n",
       "      <td>34.0</td>\n",
       "      <td>0.9978</td>\n",
       "      <td>3.51</td>\n",
       "      <td>0.56</td>\n",
       "      <td>9.4</td>\n",
       "      <td>5</td>\n",
       "      <td>2</td>\n",
       "    </tr>\n",
       "  </tbody>\n",
       "</table>\n",
       "</div>"
      ],
      "text/plain": [
       "   fixed acidity  volatile acidity  citric acid  residual sugar  chlorides  \\\n",
       "0            7.4              0.70         0.00             1.9      0.076   \n",
       "1            7.8              0.88         0.00             2.6      0.098   \n",
       "2            7.8              0.76         0.04             2.3      0.092   \n",
       "3           11.2              0.28         0.56             1.9      0.075   \n",
       "4            7.4              0.70         0.00             1.9      0.076   \n",
       "\n",
       "   free sulfur dioxide  total sulfur dioxide  density    pH  sulphates  \\\n",
       "0                 11.0                  34.0   0.9978  3.51       0.56   \n",
       "1                 25.0                  67.0   0.9968  3.20       0.68   \n",
       "2                 15.0                  54.0   0.9970  3.26       0.65   \n",
       "3                 17.0                  60.0   0.9980  3.16       0.58   \n",
       "4                 11.0                  34.0   0.9978  3.51       0.56   \n",
       "\n",
       "   alcohol  quality  tipo  \n",
       "0      9.4        5     2  \n",
       "1      9.8        5     2  \n",
       "2      9.8        5     2  \n",
       "3      9.8        6     2  \n",
       "4      9.4        5     2  "
      ]
     },
     "execution_count": 1,
     "metadata": {},
     "output_type": "execute_result"
    }
   ],
   "source": [
    "import pandas as pd\n",
    "df_red = pd.read_csv(\"winequality-red.csv\",sep=\";\")\n",
    "df_white = pd.read_csv(\"winequality-white.csv\",sep=\";\")\n",
    "tinto = []\n",
    "blanco = []\n",
    "for i in range (df_white.shape[0]):\n",
    "    #blanco = 1\n",
    "    blanco.append(1)\n",
    "for i in range (df_red.shape[0]):\n",
    "    #tinto = 2 \n",
    "    tinto.append(2)\n",
    "df_white[\"tipo\"]=blanco\n",
    "df_red[\"tipo\"]=tinto\n",
    "df = pd.concat([df_red,df_white], axis=0)\n",
    "df.head()"
   ]
  },
  {
   "cell_type": "code",
   "execution_count": 4,
   "metadata": {},
   "outputs": [
    {
     "name": "stdout",
     "output_type": "stream",
     "text": [
      "Muestras de vino rojo: 1599\n",
      "Muestras de vino blanco: 4898\n",
      "Porcentaje rojo y blanco: 0.2461135908881022 y 0.7538864091118977\n"
     ]
    }
   ],
   "source": [
    "print(\"Muestras de vino rojo: {}\".format(df_red.shape[0]))\n",
    "print(\"Muestras de vino blanco: {}\".format(df_white.shape[0]))\n",
    "print(\"Porcentaje rojo y blanco: {} y {}\".format(df_red.shape[0]/df.shape[0], df_white.shape[0]/df.shape[0]))"
   ]
  },
  {
   "cell_type": "markdown",
   "metadata": {},
   "source": [
    "Cada muestra del dataset se presenta a través de propiedades químicas del vino correspondiente, en total corresponde a 11 columnas del dataset, y una columna para presentar el tipo de vino al que corresponde la muestra. La última columna restante, *quality*, corresponde a la calidad del vino en una escala entera del 0 al 10.\n",
    "Además, se ve una mayor cantidad de vinos blancos, lo cual puede dejar subrepresentados los vinos rojos."
   ]
  },
  {
   "cell_type": "markdown",
   "metadata": {},
   "source": [
    "> b) Aborde este problema como si fuera de clasificación con multiples clases para predecir el valor de calidad de un vino, es decir, utilice las distintas caracterı́sticas fisioquı́micas presentes en los datos para estimar la etiqueta ¿Cuántas clases son y cuántos ejemplos hay por clase? ¿Qué sucede con predecir si un vino tiene calidad mínima (0) o máxima(10)? Además para el propósito académico de esta actividad cree un conjunto de pruebas (20%)  para evaluar la generalización final del modelo y otro de validación (20%) si estima conveniente. "
   ]
  },
  {
   "cell_type": "code",
   "execution_count": 5,
   "metadata": {},
   "outputs": [
    {
     "name": "stdout",
     "output_type": "stream",
     "text": [
      "Todas las clases de calidad: {3, 4, 5, 6, 7, 8, 9}\n",
      "Clases de calidad en vinos rojos: [3, 4, 5, 6, 7, 8]\n",
      "Clases de calidad en vinos blancos: [3, 4, 5, 6, 7, 8, 9]\n"
     ]
    }
   ],
   "source": [
    "print(\"Todas las clases de calidad:\", set(df[\"quality\"]))\n",
    "print(\"Clases de calidad en vinos rojos: {}\".format(sorted(df_red[\"quality\"].unique().tolist())))\n",
    "print(\"Clases de calidad en vinos blancos: {}\".format(sorted(df_white[\"quality\"].unique().tolist())))"
   ]
  },
  {
   "cell_type": "markdown",
   "metadata": {},
   "source": [
    "Se tienen 7 clases de calidad, son discretas y van del 3 al 9 por lo que predecir un vino de calidad 0 o calidad 10 no debería ser posible dado el conjunto de entrenamiento ya que el modelo no tendría ejemplos de dicha clase para catalogarlas, lo mismo sucede con calidades 1 y 2. Este comportamiento se aprecia en ambos tipos de vino.  \n",
    "A continuación, se procede a realizar la división en un conjunto de pruebas, validación y entrenamiento"
   ]
  },
  {
   "cell_type": "code",
   "execution_count": 6,
   "metadata": {},
   "outputs": [
    {
     "name": "stdout",
     "output_type": "stream",
     "text": [
      "X Train:  (3898, 12)  Y Train:  (3898,)\n",
      "X Val:  (1299, 12)  Y Val:  (1299,)\n",
      "X Test:  (1300, 12)  Y Test:  (1300,)\n"
     ]
    }
   ],
   "source": [
    "from sklearn.model_selection import train_test_split\n",
    "#no hay seed fijo asi que depende\n",
    "y = df[\"quality\"].values\n",
    "x = df.drop([\"quality\"],axis=1)\n",
    "X_train, resto_x, Y_train, resto_y = train_test_split(x,y,test_size = 0.4)\n",
    "X_val, X_test, Y_val, Y_test = train_test_split(resto_x,resto_y,test_size=0.5)\n",
    "print(\"X Train: \",X_train.shape,\" Y Train: \",Y_train.shape)\n",
    "print(\"X Val: \",X_val.shape,\" Y Val: \",Y_val.shape)\n",
    "print(\"X Test: \",X_test.shape,\" Y Test: \",Y_test.shape)"
   ]
  },
  {
   "cell_type": "markdown",
   "metadata": {},
   "source": [
    "> c) Entrene un solo Árbol de Clasificación de múltiples niveles para resolver el problema. Defina un Árbol **no regularizado** (como el que no tiene límites en su profundidad) y otro Árbol **regularizado** (variando los hiper-parámetros que prefiera, por ejemplo, los más comunes como la profundidad, el número mínimo de datos para realizar *split* o el número mínimo de datos en cada hoja), recuerde que las **decisiones** no pueden ser basadas mirando el conjunto de pruebas. Debido al desbalanceo que se produce en las clases mida la métrica F1-score [[2]](#refs) sobre el conjunto de entrenamiento y de pruebas.\n",
    "\n",
    "La métrica F1 tiene en cuenta tanto *\"precision\"* como *\"recall\"*, donde *precision* es la precisión del modelo y *recall* es la snesibilidad frente a la cantidad de ejemplos vistos, como hay un desbalance de vinos (1599 tintos y 4898 blancos), debido a esto se opta por la métrica F1. Se elige un F1 Score micro por sobre los otros métodos,ya que como este método computa el score al considerar el aporte individual de cada clase, para evitar problemas de subrepresentación de las clases presentes en las clases de entrenamiento[[6]](#refs)."
   ]
  },
  {
   "cell_type": "code",
   "execution_count": 7,
   "metadata": {},
   "outputs": [
    {
     "name": "stdout",
     "output_type": "stream",
     "text": [
      "Training Donde\n",
      "F1_Score en Validation Set:  0.5850654349499615\n"
     ]
    }
   ],
   "source": [
    "#Arbol no regularizado\n",
    "from sklearn.tree import DecisionTreeClassifier as Arbol\n",
    "from sklearn.metrics import f1_score\n",
    "Arbol_noreg = Arbol()\n",
    "Arbol_noreg.fit(X_train,Y_train)\n",
    "print(\"Training Done\")\n",
    "predicciones = Arbol_noreg.predict(X_val)\n",
    "print(\"F1_Score en Validation Set: \",f1_score(y_true=Y_val,y_pred=predicciones,average=\"micro\"))"
   ]
  },
  {
   "cell_type": "markdown",
   "metadata": {},
   "source": [
    "Se tiene que el score de un arbol no regularizado en el conjunto de validación es 0.56, ahora se procederá a resolver el problema con un arbol regularizado ajustando los hiperparámetros."
   ]
  },
  {
   "cell_type": "code",
   "execution_count": 8,
   "metadata": {},
   "outputs": [
    {
     "data": {
      "application/vnd.jupyter.widget-view+json": {
       "model_id": "bd9f08a944454334ad032a83c39e2a67",
       "version_major": 2,
       "version_minor": 0
      },
      "text/plain": [
       "interactive(children=(IntSlider(value=20, description='depth', max=40, min=1), IntSlider(value=3, description=…"
      ]
     },
     "metadata": {},
     "output_type": "display_data"
    }
   ],
   "source": [
    "#Arbol regularizado\n",
    "from ipywidgets import interactive\n",
    "def train_model_tree(depth,sample,atrib):\n",
    "    model = Arbol() \n",
    "    model.set_params(max_depth=depth,criterion='gini',splitter='best',min_samples_split=10*sample,max_features=atrib)\n",
    "    model.fit(X_train,Y_train)\n",
    "    predicciones = model.predict(X_val)\n",
    "    print(\"Test Accuracy in validation set: \",f1_score(y_true=Y_val,y_pred=predicciones,average=\"micro\"))\n",
    "\n",
    "d_min = 1 #define your range\n",
    "d_max = 40 #define your range\n",
    "sample_min = 1\n",
    "sample_min_max = 5\n",
    "features_min=1\n",
    "features_max=X_train.shape[1]\n",
    "interactive(train_model_tree,depth=(d_min,d_max),sample=(sample_min,sample_min_max),atrib=(features_min,features_max))"
   ]
  },
  {
   "cell_type": "markdown",
   "metadata": {},
   "source": [
    "La mejor combinación es una profundiad de 9, un min split de tamaño 10 y que tome en cuenta todos los atributos para hacer el split. Y se obtuvo un score en el conjunto de validación de 0.5619, levemente mejor que el arbol no regularizado, el resto de modificaciones presenta scores más bajos.\n",
    "\n",
    ">*Observación* El parámetro *sample* se pasará al modelo multiplicado por 10, valor correspondiene a la cantidad de elementos míminos para realizar un split en la proto-hoja.  \n",
    "\n",
    "\n",
    "> d) Entrene un ensamblado de árboles de múltiples niveles, mediante la técnica de **Bagging**, compare el Árbol **no regularizado** con el **regularizado** (*seteando los hiper-parámetros en base a lo experimentado anteriormente en c)*) ¿Qué debería suceder? ¿Se visualiza *overfitting*? Varíe la cantidad de árboles de decisión utilizados en el ensamblado (*n estimators*), realice un gráfico resumen del F1-score de entrenamiento y de pruebas en función de este hiper-parámetro.\n",
    "\n",
    "Según la teoría, el desempeño del bagging de arboles debería ser mejor al emplear árboles no regularizados en vez de árboles regularizados, lo que se espera de esta técnica disminuya la varianza de las estimaciones."
   ]
  },
  {
   "cell_type": "code",
   "execution_count": 9,
   "metadata": {},
   "outputs": [
    {
     "name": "stdout",
     "output_type": "stream",
     "text": [
      "Wall time: 4min 56s\n"
     ]
    }
   ],
   "source": [
    "%%time\n",
    "from sklearn.ensemble import BaggingClassifier\n",
    "errores_noreg_train = []\n",
    "errores_noreg_val = []\n",
    "errores_reg_train = []\n",
    "errores_reg_val = []\n",
    "for i in range(150):\n",
    "    #Entrenamos 150 bosques con i+1 arboles porque i parte de 0, o sea 1 arbol, 2, 3 ....150\n",
    "    Random_noreg = BaggingClassifier(base_estimator=Arbol(), n_estimators=i+1, n_jobs=-1)\n",
    "    Random_reg = BaggingClassifier(base_estimator=Arbol(max_depth=9,criterion='gini',splitter='best',min_samples_split=10), n_estimators=i+1, n_jobs=-1)\n",
    "    Random_noreg.fit(X_train,Y_train)\n",
    "    Random_reg.fit(X_train,Y_train)\n",
    "    predicciones_noreg_train = Random_noreg.predict(X_train)\n",
    "    predicciones_noreg_val = Random_noreg.predict(X_val)\n",
    "    predicciones_reg_train = Random_reg.predict(X_train)\n",
    "    predicciones_reg_val = Random_reg.predict(X_val)\n",
    "    errores_noreg_train.append(f1_score(y_true=Y_train,y_pred=predicciones_noreg_train,average=\"micro\"))\n",
    "    errores_noreg_val.append(f1_score(y_true=Y_val,y_pred=predicciones_noreg_val,average=\"micro\"))\n",
    "    errores_reg_train.append(f1_score(y_true=Y_train,y_pred=predicciones_reg_train,average=\"micro\"))\n",
    "    errores_reg_val.append(f1_score(y_true=Y_val,y_pred=predicciones_reg_val,average=\"micro\"))\n"
   ]
  },
  {
   "cell_type": "code",
   "execution_count": 10,
   "metadata": {},
   "outputs": [],
   "source": [
    "def getmax(arreglo):\n",
    "    pos = 0\n",
    "    maximo = -1\n",
    "    for i in range(len(arreglo)):\n",
    "        if arreglo[i] > maximo:\n",
    "            pos = i+1\n",
    "            maximo = arreglo[i]\n",
    "    return (pos,maximo)"
   ]
  },
  {
   "cell_type": "code",
   "execution_count": 11,
   "metadata": {},
   "outputs": [
    {
     "name": "stdout",
     "output_type": "stream",
     "text": [
      "Media F1_Score train no reg:  0.9950076962544895\n",
      "Maximo en posicion:  42  con valor:  1.0\n",
      "---------------------------------------------------------\n",
      "Media F1_Score val no reg:  0.6637977931742366\n",
      "Maximo en posicion:  76  con valor:  0.6843725943033102\n",
      "---------------------------------------------------------\n",
      "Media F1_Score train reg:  0.7631024456986488\n",
      "Maximo en posicion:  24  con valor:  0.7750128270908158\n",
      "---------------------------------------------------------\n",
      "Media F1_Score val reg:  0.6206312548113934\n",
      "Maximo en posicion:  25  con valor:  0.634334103156274\n"
     ]
    }
   ],
   "source": [
    "import numpy as np\n",
    "print(\"Media F1_Score train no reg: \",np.mean(errores_noreg_train))\n",
    "pos,maximo = getmax(errores_noreg_train)\n",
    "print(\"Maximo en posicion: \",pos,\" con valor: \",maximo)\n",
    "print(\"---------------------------------------------------------\")\n",
    "print(\"Media F1_Score val no reg: \",np.mean(errores_noreg_val))\n",
    "pos,maximo = getmax(errores_noreg_val)\n",
    "print(\"Maximo en posicion: \",pos,\" con valor: \",maximo)\n",
    "print(\"---------------------------------------------------------\")\n",
    "print(\"Media F1_Score train reg: \",np.mean(errores_reg_train))\n",
    "pos,maximo = getmax(errores_reg_train)\n",
    "print(\"Maximo en posicion: \",pos,\" con valor: \",maximo)\n",
    "print(\"---------------------------------------------------------\")\n",
    "print(\"Media F1_Score val reg: \",np.mean(errores_reg_val))\n",
    "pos,maximo = getmax(errores_reg_val)\n",
    "print(\"Maximo en posicion: \",pos,\" con valor: \",maximo)\n"
   ]
  },
  {
   "cell_type": "markdown",
   "metadata": {},
   "source": [
    "Comparando los puntajes, se ve que lo que enuncia la teoría se cumple, los arboles regularizados presentan puntajes mas altos que los arboles regularizados utilizando la técnica de bagging, además se tiene que el mejor bosque de arboles no regularizados es mejor que el mejor bosque de arboles regularizados según la mejor combinación que se encontró en el inciso anterior. Ahora se procederá a graficar los errores de entrenamiento y validación de árboles bosques."
   ]
  },
  {
   "cell_type": "code",
   "execution_count": 25,
   "metadata": {},
   "outputs": [
    {
     "data": {
      "image/png": "[encoded data removed]",
      "text/plain": [
       "<Figure size 432x288 with 1 Axes>"
      ]
     },
     "metadata": {
      "needs_background": "light"
     },
     "output_type": "display_data"
    }
   ],
   "source": [
    "import matplotlib.pyplot as plt\n",
    "indices = []\n",
    "for i in range(150):\n",
    "    indices.append(i+1)\n",
    "plt.plot(indices,errores_noreg_train,\"red\",label=\"train\")\n",
    "plt.plot(indices,errores_noreg_val,\"blue\",label=\"validation\")\n",
    "plt.title(\"Bagging no regularizado\")\n",
    "plt.xlabel(\"Cantidad de arboles\")\n",
    "plt.ylabel(\"1-Error\")\n",
    "plt.legend()\n",
    "plt.show()"
   ]
  },
  {
   "cell_type": "code",
   "execution_count": 24,
   "metadata": {},
   "outputs": [
    {
     "data": {
      "image/png": "[encoded data removed]",
      "text/plain": [
       "<Figure size 432x288 with 1 Axes>"
      ]
     },
     "metadata": {
      "needs_background": "light"
     },
     "output_type": "display_data"
    }
   ],
   "source": [
    "plt.plot(indices,errores_reg_train,\"red\",label=\"train\")\n",
    "plt.plot(indices,errores_reg_val,\"blue\",label=\"validation\")\n",
    "plt.title(\"Bagging regularizado\")\n",
    "plt.xlabel(\"Cantidad de arboles\")\n",
    "plt.ylabel(\"1-Error\")\n",
    "plt.legend()\n",
    "plt.show()"
   ]
  },
  {
   "cell_type": "markdown",
   "metadata": {},
   "source": [
    "El bagging regularizado no presente una tendencia a overfitting hasta los 150 árboles, ya que se mantiene la oscilación de ambos errores hasta esa cantidad, no se eligió una cantidad mayor porque ya se tuvo un máximo en validación y agregar más árboles aumenta el tiempo de entrenamiento.\n",
    "\n",
    "Respecto al bagging no regularizado claramente se ve overfitting ya que el error de entrenamiento se queda en 1 y el error de validación sigue oscilando por lo que se observa overfitting en este bosque. \n",
    "\n",
    "En base a los resultados obtenidos se tiene que la mejor configuración es de 96 árboles no regularizados.\n",
    "\n",
    "> e) Entrene un ensamblado de árboles de múltiples niveles, mediante la técnica de **AdaBoost**, compare el Árbol **no regularizado** con el **regularizado** (*seteando los hiper-parámetros en base a lo experimentado anteriormente en c)* ¿Se visualiza *overfitting*? ¿Qué técnica se utiliza, *re-muestrear* o *pesar* ejemplos? ¿Qué le parece más sensato?. Varíe la cantidad de árboles de decisión utilizados en el ensamblado (*n estimators*), realice un gráfico resumen del F1-score de entrenamiento y de pruebas en función de este hiper-parámetro. Compare y analice con la técnica utilizada en d).\n",
    "\n",
    "Como el modelo a trabajar, árbol de clasificación, posee bajo sesgo y alta varianza, presenta un riesgo de overfitting el emplar *AdaBoost* con dicho modelo, debido a que reduce su varianza implicitamente, y aumenta su espacio de hipótesis, causando un gran incremento en la dimensión VC, mientras que el mismo algoritmo busca reducir el error de entrenamiento. Debido a este problema, se espera apreciar un mejor rendimiento en validación al emplear un árbol regularizado como modelo base."
   ]
  },
  {
   "cell_type": "code",
   "execution_count": 14,
   "metadata": {},
   "outputs": [
    {
     "name": "stdout",
     "output_type": "stream",
     "text": [
      "Wall time: 5min 9s\n"
     ]
    }
   ],
   "source": [
    "%%time\n",
    "from sklearn.ensemble import AdaBoostClassifier\n",
    "errores_noreg_train2 = []\n",
    "errores_noreg_val2 = []\n",
    "errores_reg_train2 = []\n",
    "errores_reg_val2 = []\n",
    "for i in range(150):\n",
    "    #Similar al bosquecito\n",
    "    Random_noreg = AdaBoostClassifier(base_estimator=Arbol(), n_estimators=i+1)\n",
    "    Random_reg = AdaBoostClassifier(base_estimator=Arbol(max_depth=9,criterion='gini',splitter='best',min_samples_split=10), n_estimators=i+1)\n",
    "    Random_noreg.fit(X_train,Y_train)\n",
    "    Random_reg.fit(X_train,Y_train)\n",
    "    predicciones_noreg_train = Random_noreg.predict(X_train)\n",
    "    predicciones_noreg_val = Random_noreg.predict(X_val)\n",
    "    predicciones_reg_train = Random_reg.predict(X_train)\n",
    "    predicciones_reg_val = Random_reg.predict(X_val)\n",
    "    errores_noreg_train2.append(f1_score(y_true=Y_train,y_pred=predicciones_noreg_train,average=\"micro\"))\n",
    "    errores_noreg_val2.append(f1_score(y_true=Y_val,y_pred=predicciones_noreg_val,average=\"micro\"))\n",
    "    errores_reg_train2.append(f1_score(y_true=Y_train,y_pred=predicciones_reg_train,average=\"micro\"))\n",
    "    errores_reg_val2.append(f1_score(y_true=Y_val,y_pred=predicciones_reg_val,average=\"micro\"))"
   ]
  },
  {
   "cell_type": "code",
   "execution_count": 15,
   "metadata": {},
   "outputs": [
    {
     "name": "stdout",
     "output_type": "stream",
     "text": [
      "Media F1_Score train no reg:  1.0\n",
      "Maximo en posicion:  1  con valor:  1.0\n",
      "---------------------------------------------------------\n",
      "Media F1_Score val no reg:  0.5920143700282269\n",
      "Maximo en posicion:  92  con valor:  0.6066204772902233\n",
      "---------------------------------------------------------\n",
      "Media F1_Score train reg:  0.9660697793740379\n",
      "Maximo en posicion:  107  con valor:  0.9979476654694716\n",
      "---------------------------------------------------------\n",
      "Media F1_Score val reg:  0.6394508596356172\n",
      "Maximo en posicion:  138  con valor:  0.6766743648960739\n"
     ]
    }
   ],
   "source": [
    "import numpy as np\n",
    "print(\"Media F1_Score train no reg: \",np.mean(errores_noreg_train2))\n",
    "pos,maximo = getmax(errores_noreg_train2)\n",
    "print(\"Maximo en posicion: \",pos,\" con valor: \",maximo)\n",
    "print(\"---------------------------------------------------------\")\n",
    "print(\"Media F1_Score val no reg: \",np.mean(errores_noreg_val2))\n",
    "pos,maximo = getmax(errores_noreg_val2)\n",
    "print(\"Maximo en posicion: \",pos,\" con valor: \",maximo)\n",
    "print(\"---------------------------------------------------------\")\n",
    "print(\"Media F1_Score train reg: \",np.mean(errores_reg_train2))\n",
    "pos,maximo = getmax(errores_reg_train2)\n",
    "print(\"Maximo en posicion: \",pos,\" con valor: \",maximo)\n",
    "print(\"---------------------------------------------------------\")\n",
    "print(\"Media F1_Score val reg: \",np.mean(errores_reg_val2))\n",
    "pos,maximo = getmax(errores_reg_val2)\n",
    "print(\"Maximo en posicion: \",pos,\" con valor: \",maximo)"
   ]
  },
  {
   "cell_type": "code",
   "execution_count": 23,
   "metadata": {},
   "outputs": [
    {
     "data": {
      "image/png": "[encoded data removed]",
      "text/plain": [
       "<Figure size 432x288 with 1 Axes>"
      ]
     },
     "metadata": {
      "needs_background": "light"
     },
     "output_type": "display_data"
    }
   ],
   "source": [
    "import matplotlib.pyplot as plt\n",
    "indices = []\n",
    "for i in range(150): #usar mismo range que el de entrenamiento en el for gigante\n",
    "    indices.append(i+1)\n",
    "plt.plot(indices,errores_noreg_train2,\"red\",label=\"train\")\n",
    "plt.plot(indices,errores_noreg_val2,\"blue\",label=\"validation\")\n",
    "plt.title(\"AdaBoost no regularizado\")\n",
    "plt.xlabel(\"Cantidad de arboles\")\n",
    "plt.ylabel(\"1-Error\")\n",
    "plt.legend()\n",
    "plt.show()"
   ]
  },
  {
   "cell_type": "code",
   "execution_count": 22,
   "metadata": {},
   "outputs": [
    {
     "data": {
      "image/png": "[encoded data removed]",
      "text/plain": [
       "<Figure size 432x288 with 1 Axes>"
      ]
     },
     "metadata": {
      "needs_background": "light"
     },
     "output_type": "display_data"
    }
   ],
   "source": [
    "plt.plot(indices,errores_reg_train2,\"red\",label=\"train\")\n",
    "plt.plot(indices,errores_reg_val2,\"blue\",label=\"validation\")\n",
    "plt.title(\"AdaBoost regularizado\")\n",
    "plt.xlabel(\"Cantidad de arboles\")\n",
    "plt.ylabel(\"1-Error\")\n",
    "plt.legend()\n",
    "plt.show()"
   ]
  },
  {
   "cell_type": "markdown",
   "metadata": {},
   "source": [
    "Como se esperaba, se aprecia una tendencia extrema de overfitting al aplicar *AdaBoost* con árboles no regularizados, con inestabilidad en el error de entrenamiento al aumentar la cantidad de modelos ensamblados con este método.  \n",
    "También se aprecia el comportamiento esperado al emplear arboles regularizados, correspondiente a una menor tendencia a overfitting (se aprecia que el error de entrenamiento se mantiene oscilante) y una mejora progresiva en el error de validación con una mayor cantidad de árboles.  \n",
    "\n",
    "El mejor desempeño obtenido corresponde a emplear 122 arboles regularizados en el ensamblado."
   ]
  },
  {
   "cell_type": "markdown",
   "metadata": {},
   "source": [
    "> f) Pruebe otra técnica de ensamblado dedicada a árboles de decisión, que combina el muestreo *boostrap* de *Bagging* con muestreo sobre las *features*: **Random Forest**, compare el Árbol **no regularizado** con el **regularizado** ¿Se visualiza *overfitting*?. Varíe la cantidad de árboles de decisión utilizados en el ensamblado (*n estimators*), realice un gráfico resumen el F1-score de entrenamiento y de pruebas en función de este hiper-parámetro.\n"
   ]
  },
  {
   "cell_type": "code",
   "execution_count": 18,
   "metadata": {},
   "outputs": [
    {
     "name": "stdout",
     "output_type": "stream",
     "text": [
      "Wall time: 2min 39s\n"
     ]
    }
   ],
   "source": [
    "%%time\n",
    "from sklearn.ensemble import RandomForestClassifier\n",
    "errores_noreg_train3 = []\n",
    "errores_noreg_val3 = []\n",
    "errores_reg_train3 = []\n",
    "errores_reg_val3 = []\n",
    "for i in range(150):\n",
    "    #Similar al bosquecito\n",
    "    Random_noreg = RandomForestClassifier(n_estimators=i+1, n_jobs=-1)\n",
    "    Random_reg = RandomForestClassifier(n_estimators=i+1, max_depth=9, criterion='gini', min_samples_split=10, n_jobs=-1)\n",
    "    Random_noreg.fit(X_train,Y_train)\n",
    "    Random_reg.fit(X_train,Y_train)\n",
    "    predicciones_noreg_train = Random_noreg.predict(X_train)\n",
    "    predicciones_noreg_val = Random_noreg.predict(X_val)\n",
    "    predicciones_reg_train = Random_reg.predict(X_train)\n",
    "    predicciones_reg_val = Random_reg.predict(X_val)\n",
    "    errores_noreg_train3.append(f1_score(y_true=Y_train,y_pred=predicciones_noreg_train,average=\"micro\"))\n",
    "    errores_noreg_val3.append(f1_score(y_true=Y_val,y_pred=predicciones_noreg_val,average=\"micro\"))\n",
    "    errores_reg_train3.append(f1_score(y_true=Y_train,y_pred=predicciones_reg_train,average=\"micro\"))\n",
    "    errores_reg_val3.append(f1_score(y_true=Y_val,y_pred=predicciones_reg_val,average=\"micro\"))"
   ]
  },
  {
   "cell_type": "code",
   "execution_count": 19,
   "metadata": {},
   "outputs": [
    {
     "name": "stdout",
     "output_type": "stream",
     "text": [
      "Media F1_Score train no reg:  0.9951975371985634\n",
      "Maximo en posicion:  32  con valor:  1.0\n",
      "---------------------------------------------------------\n",
      "Media F1_Score val no reg:  0.6649781883500129\n",
      "Maximo en posicion:  139  con valor:  0.6866820631254812\n",
      "---------------------------------------------------------\n",
      "Media F1_Score train reg:  0.7310124850350608\n",
      "Maximo en posicion:  49  con valor:  0.7437147255002565\n",
      "---------------------------------------------------------\n",
      "Media F1_Score val reg:  0.6134308442391584\n",
      "Maximo en posicion:  80  con valor:  0.6297151655119323\n"
     ]
    }
   ],
   "source": [
    "import numpy as np\n",
    "print(\"Media F1_Score train no reg: \",np.mean(errores_noreg_train3))\n",
    "pos,maximo = getmax(errores_noreg_train3)\n",
    "print(\"Maximo en posicion: \",pos,\" con valor: \",maximo)\n",
    "print(\"---------------------------------------------------------\")\n",
    "print(\"Media F1_Score val no reg: \",np.mean(errores_noreg_val3))\n",
    "pos,maximo = getmax(errores_noreg_val3)\n",
    "print(\"Maximo en posicion: \",pos,\" con valor: \",maximo)\n",
    "print(\"---------------------------------------------------------\")\n",
    "print(\"Media F1_Score train reg: \",np.mean(errores_reg_train3))\n",
    "pos,maximo = getmax(errores_reg_train3)\n",
    "print(\"Maximo en posicion: \",pos,\" con valor: \",maximo)\n",
    "print(\"---------------------------------------------------------\")\n",
    "print(\"Media F1_Score val reg: \",np.mean(errores_reg_val3))\n",
    "pos,maximo = getmax(errores_reg_val3)\n",
    "print(\"Maximo en posicion: \",pos,\" con valor: \",maximo)"
   ]
  },
  {
   "cell_type": "code",
   "execution_count": 20,
   "metadata": {},
   "outputs": [
    {
     "data": {
      "image/png": "[encoded data removed]",
      "text/plain": [
       "<Figure size 432x288 with 1 Axes>"
      ]
     },
     "metadata": {
      "needs_background": "light"
     },
     "output_type": "display_data"
    }
   ],
   "source": [
    "indices = []\n",
    "for i in range(150): #usar mismo range que el de entrenamiento en el for gigante\n",
    "    indices.append(i+1)\n",
    "plt.plot(indices,errores_noreg_train3,\"red\",label=\"train\")\n",
    "plt.plot(indices,errores_noreg_val3,\"blue\",label=\"validation\")\n",
    "plt.title(\"RF no regularizado\")\n",
    "plt.xlabel(\"Cantidad de arboles\")\n",
    "plt.ylabel(\"1-Error\")\n",
    "plt.legend()\n",
    "plt.show()"
   ]
  },
  {
   "cell_type": "code",
   "execution_count": 21,
   "metadata": {},
   "outputs": [
    {
     "data": {
      "image/png": "[encoded data removed]",
      "text/plain": [
       "<Figure size 432x288 with 1 Axes>"
      ]
     },
     "metadata": {
      "needs_background": "light"
     },
     "output_type": "display_data"
    }
   ],
   "source": [
    "plt.plot(indices,errores_reg_train3,\"red\",label=\"train\")\n",
    "plt.plot(indices,errores_reg_val3,\"blue\",label=\"validation\")\n",
    "plt.title(\"RF regularizado\")\n",
    "plt.xlabel(\"Cantidad de arboles\")\n",
    "plt.ylabel(\"1-Error\")\n",
    "plt.legend()\n",
    "plt.show()"
   ]
  },
  {
   "cell_type": "markdown",
   "metadata": {},
   "source": [
    "De manera cualitativa, el comportamiento obtenido con random forest es semejante al obtenido con bagging de árboles, incluso en el comportamiento de overfitting. Pero al comparar los valores obtenidos, se ve una notable mejora en todos los score obtenidos, lo cual concuerda con lo planteado en la teoría en la consideración de la no independencia de las muestras trabajadas, lo que en la práctica ocurre la mayoria del tiempo.  \n",
    "El mejor desempeño se obtuvo al emplear 112 arboles no regularizados.  \n",
    "\n",
    "> g) Verifique que el **OOB error** (*out of bag error*) de los ensambladores que utilizan la técnica *boostrap* puede ser una alternativa como métrica de generalización, compárelo con el error calculado sobre el conjunto de pruebas y validación (o en su defecto *cross validation*).\n",
    "\n",
    "De los 3 ensamblados empleados, random forest y bagging emplean *Bootstrap* en su remuestreo. Ambos poseen dichos atributos correspondientes despues de su entrenamiento."
   ]
  },
  {
   "cell_type": "code",
   "execution_count": 34,
   "metadata": {
    "scrolled": true
   },
   "outputs": [
    {
     "name": "stderr",
     "output_type": "stream",
     "text": [
      "d:\\program files\\python36\\lib\\site-packages\\sklearn\\ensemble\\forest.py:458: UserWarning: Some inputs do not have OOB scores. This probably means too few trees were used to compute any reliable oob estimates.\n",
      "  warn(\"Some inputs do not have OOB scores. \"\n",
      "d:\\program files\\python36\\lib\\site-packages\\sklearn\\ensemble\\forest.py:463: RuntimeWarning: invalid value encountered in true_divide\n",
      "  predictions[k].sum(axis=1)[:, np.newaxis])\n",
      "d:\\program files\\python36\\lib\\site-packages\\sklearn\\ensemble\\forest.py:458: UserWarning: Some inputs do not have OOB scores. This probably means too few trees were used to compute any reliable oob estimates.\n",
      "  warn(\"Some inputs do not have OOB scores. \"\n",
      "d:\\program files\\python36\\lib\\site-packages\\sklearn\\ensemble\\forest.py:463: RuntimeWarning: invalid value encountered in true_divide\n",
      "  predictions[k].sum(axis=1)[:, np.newaxis])\n",
      "d:\\program files\\python36\\lib\\site-packages\\sklearn\\ensemble\\forest.py:458: UserWarning: Some inputs do not have OOB scores. This probably means too few trees were used to compute any reliable oob estimates.\n",
      "  warn(\"Some inputs do not have OOB scores. \"\n",
      "d:\\program files\\python36\\lib\\site-packages\\sklearn\\ensemble\\forest.py:463: RuntimeWarning: invalid value encountered in true_divide\n",
      "  predictions[k].sum(axis=1)[:, np.newaxis])\n",
      "d:\\program files\\python36\\lib\\site-packages\\sklearn\\ensemble\\forest.py:458: UserWarning: Some inputs do not have OOB scores. This probably means too few trees were used to compute any reliable oob estimates.\n",
      "  warn(\"Some inputs do not have OOB scores. \"\n",
      "d:\\program files\\python36\\lib\\site-packages\\sklearn\\ensemble\\forest.py:463: RuntimeWarning: invalid value encountered in true_divide\n",
      "  predictions[k].sum(axis=1)[:, np.newaxis])\n",
      "d:\\program files\\python36\\lib\\site-packages\\sklearn\\ensemble\\forest.py:458: UserWarning: Some inputs do not have OOB scores. This probably means too few trees were used to compute any reliable oob estimates.\n",
      "  warn(\"Some inputs do not have OOB scores. \"\n",
      "d:\\program files\\python36\\lib\\site-packages\\sklearn\\ensemble\\forest.py:463: RuntimeWarning: invalid value encountered in true_divide\n",
      "  predictions[k].sum(axis=1)[:, np.newaxis])\n",
      "d:\\program files\\python36\\lib\\site-packages\\sklearn\\ensemble\\forest.py:458: UserWarning: Some inputs do not have OOB scores. This probably means too few trees were used to compute any reliable oob estimates.\n",
      "  warn(\"Some inputs do not have OOB scores. \"\n",
      "d:\\program files\\python36\\lib\\site-packages\\sklearn\\ensemble\\forest.py:463: RuntimeWarning: invalid value encountered in true_divide\n",
      "  predictions[k].sum(axis=1)[:, np.newaxis])\n",
      "d:\\program files\\python36\\lib\\site-packages\\sklearn\\ensemble\\forest.py:458: UserWarning: Some inputs do not have OOB scores. This probably means too few trees were used to compute any reliable oob estimates.\n",
      "  warn(\"Some inputs do not have OOB scores. \"\n",
      "d:\\program files\\python36\\lib\\site-packages\\sklearn\\ensemble\\forest.py:463: RuntimeWarning: invalid value encountered in true_divide\n",
      "  predictions[k].sum(axis=1)[:, np.newaxis])\n",
      "d:\\program files\\python36\\lib\\site-packages\\sklearn\\ensemble\\forest.py:458: UserWarning: Some inputs do not have OOB scores. This probably means too few trees were used to compute any reliable oob estimates.\n",
      "  warn(\"Some inputs do not have OOB scores. \"\n",
      "d:\\program files\\python36\\lib\\site-packages\\sklearn\\ensemble\\forest.py:463: RuntimeWarning: invalid value encountered in true_divide\n",
      "  predictions[k].sum(axis=1)[:, np.newaxis])\n",
      "d:\\program files\\python36\\lib\\site-packages\\sklearn\\ensemble\\forest.py:458: UserWarning: Some inputs do not have OOB scores. This probably means too few trees were used to compute any reliable oob estimates.\n",
      "  warn(\"Some inputs do not have OOB scores. \"\n",
      "d:\\program files\\python36\\lib\\site-packages\\sklearn\\ensemble\\forest.py:463: RuntimeWarning: invalid value encountered in true_divide\n",
      "  predictions[k].sum(axis=1)[:, np.newaxis])\n",
      "d:\\program files\\python36\\lib\\site-packages\\sklearn\\ensemble\\forest.py:458: UserWarning: Some inputs do not have OOB scores. This probably means too few trees were used to compute any reliable oob estimates.\n",
      "  warn(\"Some inputs do not have OOB scores. \"\n",
      "d:\\program files\\python36\\lib\\site-packages\\sklearn\\ensemble\\forest.py:463: RuntimeWarning: invalid value encountered in true_divide\n",
      "  predictions[k].sum(axis=1)[:, np.newaxis])\n",
      "d:\\program files\\python36\\lib\\site-packages\\sklearn\\ensemble\\forest.py:458: UserWarning: Some inputs do not have OOB scores. This probably means too few trees were used to compute any reliable oob estimates.\n",
      "  warn(\"Some inputs do not have OOB scores. \"\n",
      "d:\\program files\\python36\\lib\\site-packages\\sklearn\\ensemble\\forest.py:463: RuntimeWarning: invalid value encountered in true_divide\n",
      "  predictions[k].sum(axis=1)[:, np.newaxis])\n",
      "d:\\program files\\python36\\lib\\site-packages\\sklearn\\ensemble\\forest.py:458: UserWarning: Some inputs do not have OOB scores. This probably means too few trees were used to compute any reliable oob estimates.\n",
      "  warn(\"Some inputs do not have OOB scores. \"\n",
      "d:\\program files\\python36\\lib\\site-packages\\sklearn\\ensemble\\forest.py:463: RuntimeWarning: invalid value encountered in true_divide\n",
      "  predictions[k].sum(axis=1)[:, np.newaxis])\n",
      "d:\\program files\\python36\\lib\\site-packages\\sklearn\\ensemble\\forest.py:458: UserWarning: Some inputs do not have OOB scores. This probably means too few trees were used to compute any reliable oob estimates.\n",
      "  warn(\"Some inputs do not have OOB scores. \"\n",
      "d:\\program files\\python36\\lib\\site-packages\\sklearn\\ensemble\\forest.py:463: RuntimeWarning: invalid value encountered in true_divide\n",
      "  predictions[k].sum(axis=1)[:, np.newaxis])\n",
      "d:\\program files\\python36\\lib\\site-packages\\sklearn\\ensemble\\forest.py:458: UserWarning: Some inputs do not have OOB scores. This probably means too few trees were used to compute any reliable oob estimates.\n",
      "  warn(\"Some inputs do not have OOB scores. \"\n",
      "d:\\program files\\python36\\lib\\site-packages\\sklearn\\ensemble\\forest.py:463: RuntimeWarning: invalid value encountered in true_divide\n",
      "  predictions[k].sum(axis=1)[:, np.newaxis])\n",
      "d:\\program files\\python36\\lib\\site-packages\\sklearn\\ensemble\\forest.py:458: UserWarning: Some inputs do not have OOB scores. This probably means too few trees were used to compute any reliable oob estimates.\n",
      "  warn(\"Some inputs do not have OOB scores. \"\n",
      "d:\\program files\\python36\\lib\\site-packages\\sklearn\\ensemble\\forest.py:463: RuntimeWarning: invalid value encountered in true_divide\n",
      "  predictions[k].sum(axis=1)[:, np.newaxis])\n",
      "d:\\program files\\python36\\lib\\site-packages\\sklearn\\ensemble\\forest.py:458: UserWarning: Some inputs do not have OOB scores. This probably means too few trees were used to compute any reliable oob estimates.\n",
      "  warn(\"Some inputs do not have OOB scores. \"\n",
      "d:\\program files\\python36\\lib\\site-packages\\sklearn\\ensemble\\forest.py:463: RuntimeWarning: invalid value encountered in true_divide\n",
      "  predictions[k].sum(axis=1)[:, np.newaxis])\n",
      "d:\\program files\\python36\\lib\\site-packages\\sklearn\\ensemble\\forest.py:458: UserWarning: Some inputs do not have OOB scores. This probably means too few trees were used to compute any reliable oob estimates.\n",
      "  warn(\"Some inputs do not have OOB scores. \"\n",
      "d:\\program files\\python36\\lib\\site-packages\\sklearn\\ensemble\\forest.py:463: RuntimeWarning: invalid value encountered in true_divide\n",
      "  predictions[k].sum(axis=1)[:, np.newaxis])\n",
      "d:\\program files\\python36\\lib\\site-packages\\sklearn\\ensemble\\forest.py:458: UserWarning: Some inputs do not have OOB scores. This probably means too few trees were used to compute any reliable oob estimates.\n",
      "  warn(\"Some inputs do not have OOB scores. \"\n",
      "d:\\program files\\python36\\lib\\site-packages\\sklearn\\ensemble\\forest.py:463: RuntimeWarning: invalid value encountered in true_divide\n",
      "  predictions[k].sum(axis=1)[:, np.newaxis])\n",
      "d:\\program files\\python36\\lib\\site-packages\\sklearn\\ensemble\\forest.py:458: UserWarning: Some inputs do not have OOB scores. This probably means too few trees were used to compute any reliable oob estimates.\n",
      "  warn(\"Some inputs do not have OOB scores. \"\n",
      "d:\\program files\\python36\\lib\\site-packages\\sklearn\\ensemble\\forest.py:463: RuntimeWarning: invalid value encountered in true_divide\n",
      "  predictions[k].sum(axis=1)[:, np.newaxis])\n",
      "d:\\program files\\python36\\lib\\site-packages\\sklearn\\ensemble\\forest.py:458: UserWarning: Some inputs do not have OOB scores. This probably means too few trees were used to compute any reliable oob estimates.\n",
      "  warn(\"Some inputs do not have OOB scores. \"\n",
      "d:\\program files\\python36\\lib\\site-packages\\sklearn\\ensemble\\forest.py:463: RuntimeWarning: invalid value encountered in true_divide\n",
      "  predictions[k].sum(axis=1)[:, np.newaxis])\n"
     ]
    },
    {
     "name": "stderr",
     "output_type": "stream",
     "text": [
      "d:\\program files\\python36\\lib\\site-packages\\sklearn\\ensemble\\forest.py:458: UserWarning: Some inputs do not have OOB scores. This probably means too few trees were used to compute any reliable oob estimates.\n",
      "  warn(\"Some inputs do not have OOB scores. \"\n",
      "d:\\program files\\python36\\lib\\site-packages\\sklearn\\ensemble\\forest.py:463: RuntimeWarning: invalid value encountered in true_divide\n",
      "  predictions[k].sum(axis=1)[:, np.newaxis])\n",
      "d:\\program files\\python36\\lib\\site-packages\\sklearn\\ensemble\\forest.py:458: UserWarning: Some inputs do not have OOB scores. This probably means too few trees were used to compute any reliable oob estimates.\n",
      "  warn(\"Some inputs do not have OOB scores. \"\n",
      "d:\\program files\\python36\\lib\\site-packages\\sklearn\\ensemble\\forest.py:463: RuntimeWarning: invalid value encountered in true_divide\n",
      "  predictions[k].sum(axis=1)[:, np.newaxis])\n",
      "d:\\program files\\python36\\lib\\site-packages\\sklearn\\ensemble\\forest.py:458: UserWarning: Some inputs do not have OOB scores. This probably means too few trees were used to compute any reliable oob estimates.\n",
      "  warn(\"Some inputs do not have OOB scores. \"\n",
      "d:\\program files\\python36\\lib\\site-packages\\sklearn\\ensemble\\forest.py:463: RuntimeWarning: invalid value encountered in true_divide\n",
      "  predictions[k].sum(axis=1)[:, np.newaxis])\n",
      "d:\\program files\\python36\\lib\\site-packages\\sklearn\\ensemble\\forest.py:458: UserWarning: Some inputs do not have OOB scores. This probably means too few trees were used to compute any reliable oob estimates.\n",
      "  warn(\"Some inputs do not have OOB scores. \"\n",
      "d:\\program files\\python36\\lib\\site-packages\\sklearn\\ensemble\\forest.py:463: RuntimeWarning: invalid value encountered in true_divide\n",
      "  predictions[k].sum(axis=1)[:, np.newaxis])\n",
      "d:\\program files\\python36\\lib\\site-packages\\sklearn\\ensemble\\forest.py:458: UserWarning: Some inputs do not have OOB scores. This probably means too few trees were used to compute any reliable oob estimates.\n",
      "  warn(\"Some inputs do not have OOB scores. \"\n",
      "d:\\program files\\python36\\lib\\site-packages\\sklearn\\ensemble\\forest.py:463: RuntimeWarning: invalid value encountered in true_divide\n",
      "  predictions[k].sum(axis=1)[:, np.newaxis])\n",
      "d:\\program files\\python36\\lib\\site-packages\\sklearn\\ensemble\\forest.py:458: UserWarning: Some inputs do not have OOB scores. This probably means too few trees were used to compute any reliable oob estimates.\n",
      "  warn(\"Some inputs do not have OOB scores. \"\n",
      "d:\\program files\\python36\\lib\\site-packages\\sklearn\\ensemble\\forest.py:463: RuntimeWarning: invalid value encountered in true_divide\n",
      "  predictions[k].sum(axis=1)[:, np.newaxis])\n",
      "d:\\program files\\python36\\lib\\site-packages\\sklearn\\ensemble\\forest.py:458: UserWarning: Some inputs do not have OOB scores. This probably means too few trees were used to compute any reliable oob estimates.\n",
      "  warn(\"Some inputs do not have OOB scores. \"\n",
      "d:\\program files\\python36\\lib\\site-packages\\sklearn\\ensemble\\forest.py:463: RuntimeWarning: invalid value encountered in true_divide\n",
      "  predictions[k].sum(axis=1)[:, np.newaxis])\n",
      "d:\\program files\\python36\\lib\\site-packages\\sklearn\\ensemble\\forest.py:458: UserWarning: Some inputs do not have OOB scores. This probably means too few trees were used to compute any reliable oob estimates.\n",
      "  warn(\"Some inputs do not have OOB scores. \"\n",
      "d:\\program files\\python36\\lib\\site-packages\\sklearn\\ensemble\\forest.py:463: RuntimeWarning: invalid value encountered in true_divide\n",
      "  predictions[k].sum(axis=1)[:, np.newaxis])\n",
      "d:\\program files\\python36\\lib\\site-packages\\sklearn\\ensemble\\forest.py:458: UserWarning: Some inputs do not have OOB scores. This probably means too few trees were used to compute any reliable oob estimates.\n",
      "  warn(\"Some inputs do not have OOB scores. \"\n",
      "d:\\program files\\python36\\lib\\site-packages\\sklearn\\ensemble\\forest.py:463: RuntimeWarning: invalid value encountered in true_divide\n",
      "  predictions[k].sum(axis=1)[:, np.newaxis])\n",
      "d:\\program files\\python36\\lib\\site-packages\\sklearn\\ensemble\\forest.py:458: UserWarning: Some inputs do not have OOB scores. This probably means too few trees were used to compute any reliable oob estimates.\n",
      "  warn(\"Some inputs do not have OOB scores. \"\n",
      "d:\\program files\\python36\\lib\\site-packages\\sklearn\\ensemble\\forest.py:463: RuntimeWarning: invalid value encountered in true_divide\n",
      "  predictions[k].sum(axis=1)[:, np.newaxis])\n",
      "d:\\program files\\python36\\lib\\site-packages\\sklearn\\ensemble\\forest.py:458: UserWarning: Some inputs do not have OOB scores. This probably means too few trees were used to compute any reliable oob estimates.\n",
      "  warn(\"Some inputs do not have OOB scores. \"\n",
      "d:\\program files\\python36\\lib\\site-packages\\sklearn\\ensemble\\forest.py:463: RuntimeWarning: invalid value encountered in true_divide\n",
      "  predictions[k].sum(axis=1)[:, np.newaxis])\n",
      "d:\\program files\\python36\\lib\\site-packages\\sklearn\\ensemble\\forest.py:458: UserWarning: Some inputs do not have OOB scores. This probably means too few trees were used to compute any reliable oob estimates.\n",
      "  warn(\"Some inputs do not have OOB scores. \"\n",
      "d:\\program files\\python36\\lib\\site-packages\\sklearn\\ensemble\\forest.py:463: RuntimeWarning: invalid value encountered in true_divide\n",
      "  predictions[k].sum(axis=1)[:, np.newaxis])\n",
      "d:\\program files\\python36\\lib\\site-packages\\sklearn\\ensemble\\forest.py:458: UserWarning: Some inputs do not have OOB scores. This probably means too few trees were used to compute any reliable oob estimates.\n",
      "  warn(\"Some inputs do not have OOB scores. \"\n",
      "d:\\program files\\python36\\lib\\site-packages\\sklearn\\ensemble\\forest.py:463: RuntimeWarning: invalid value encountered in true_divide\n",
      "  predictions[k].sum(axis=1)[:, np.newaxis])\n",
      "d:\\program files\\python36\\lib\\site-packages\\sklearn\\ensemble\\forest.py:458: UserWarning: Some inputs do not have OOB scores. This probably means too few trees were used to compute any reliable oob estimates.\n",
      "  warn(\"Some inputs do not have OOB scores. \"\n",
      "d:\\program files\\python36\\lib\\site-packages\\sklearn\\ensemble\\forest.py:463: RuntimeWarning: invalid value encountered in true_divide\n",
      "  predictions[k].sum(axis=1)[:, np.newaxis])\n",
      "d:\\program files\\python36\\lib\\site-packages\\sklearn\\ensemble\\forest.py:458: UserWarning: Some inputs do not have OOB scores. This probably means too few trees were used to compute any reliable oob estimates.\n",
      "  warn(\"Some inputs do not have OOB scores. \"\n",
      "d:\\program files\\python36\\lib\\site-packages\\sklearn\\ensemble\\forest.py:463: RuntimeWarning: invalid value encountered in true_divide\n",
      "  predictions[k].sum(axis=1)[:, np.newaxis])\n",
      "d:\\program files\\python36\\lib\\site-packages\\sklearn\\ensemble\\forest.py:458: UserWarning: Some inputs do not have OOB scores. This probably means too few trees were used to compute any reliable oob estimates.\n",
      "  warn(\"Some inputs do not have OOB scores. \"\n",
      "d:\\program files\\python36\\lib\\site-packages\\sklearn\\ensemble\\forest.py:463: RuntimeWarning: invalid value encountered in true_divide\n",
      "  predictions[k].sum(axis=1)[:, np.newaxis])\n",
      "d:\\program files\\python36\\lib\\site-packages\\sklearn\\ensemble\\forest.py:458: UserWarning: Some inputs do not have OOB scores. This probably means too few trees were used to compute any reliable oob estimates.\n",
      "  warn(\"Some inputs do not have OOB scores. \"\n",
      "d:\\program files\\python36\\lib\\site-packages\\sklearn\\ensemble\\forest.py:463: RuntimeWarning: invalid value encountered in true_divide\n",
      "  predictions[k].sum(axis=1)[:, np.newaxis])\n"
     ]
    },
    {
     "name": "stdout",
     "output_type": "stream",
     "text": [
      "Wall time: 3min 3s\n"
     ]
    }
   ],
   "source": [
    "%%time\n",
    "errores_noreg_train = []\n",
    "errores_noreg_val = []\n",
    "errores_reg_train = []\n",
    "errores_reg_val = []\n",
    "oob_noreg= []\n",
    "oob_reg = []\n",
    "for i in range(150):\n",
    "    Random_noreg = RandomForestClassifier(oob_score=True, n_estimators=i+1, n_jobs=-1)\n",
    "    Random_reg = RandomForestClassifier(oob_score=True, n_estimators=i+1, max_depth=9, criterion='gini', min_samples_split=10, n_jobs=-1)\n",
    "    Random_noreg.fit(X_train,Y_train)\n",
    "    Random_reg.fit(X_train,Y_train)\n",
    "    oob_noreg.append(Random_noreg.oob_score_)\n",
    "    oob_reg.append(Random_reg.oob_score_)\n",
    "    predicciones_noreg_train = Random_noreg.predict(X_train)\n",
    "    predicciones_noreg_val = Random_noreg.predict(X_val)\n",
    "    predicciones_reg_train = Random_reg.predict(X_train)\n",
    "    predicciones_reg_val = Random_reg.predict(X_val)\n",
    "    errores_noreg_train.append(f1_score(y_true=Y_train,y_pred=predicciones_noreg_train,average=\"micro\"))\n",
    "    errores_noreg_val.append(f1_score(y_true=Y_val,y_pred=predicciones_noreg_val,average=\"micro\"))\n",
    "    errores_reg_train.append(f1_score(y_true=Y_train,y_pred=predicciones_reg_train,average=\"micro\"))\n",
    "    errores_reg_val.append(f1_score(y_true=Y_val,y_pred=predicciones_reg_val,average=\"micro\"))  "
   ]
  },
  {
   "cell_type": "code",
   "execution_count": 35,
   "metadata": {},
   "outputs": [
    {
     "data": {
      "image/png": "[encoded data removed]",
      "text/plain": [
       "<Figure size 432x288 with 1 Axes>"
      ]
     },
     "metadata": {
      "needs_background": "light"
     },
     "output_type": "display_data"
    }
   ],
   "source": [
    "indices = []\n",
    "for i in range(150): #usar mismo range que el de entrenamiento en el for gigante\n",
    "    indices.append(i+1)\n",
    "plt.plot(indices,errores_noreg_train3,\"red\",label=\"train f1\")\n",
    "plt.plot(indices,errores_noreg_val3,\"blue\",label=\"validation f1\")\n",
    "plt.plot(indices,oob_noreg,\"green\",label=\"oob\")\n",
    "plt.title(\"RF no regularizado\")\n",
    "plt.xlabel(\"Cantidad de arboles\")\n",
    "plt.ylabel(\"1-Error\")\n",
    "plt.legend()\n",
    "plt.show()"
   ]
  },
  {
   "cell_type": "code",
   "execution_count": 36,
   "metadata": {},
   "outputs": [
    {
     "data": {
      "image/png": "[encoded data removed]",
      "text/plain": [
       "<Figure size 432x288 with 1 Axes>"
      ]
     },
     "metadata": {
      "needs_background": "light"
     },
     "output_type": "display_data"
    }
   ],
   "source": [
    "plt.plot(indices,errores_reg_train3,\"red\",label=\"train f1\")\n",
    "plt.plot(indices,errores_reg_val3,\"blue\",label=\"validation f1\")\n",
    "plt.plot(indices,oob_reg,\"green\",label=\"oob\")\n",
    "plt.title(\"RF regularizado\")\n",
    "plt.xlabel(\"Cantidad de arboles\")\n",
    "plt.ylabel(\"1-Error\")\n",
    "plt.legend()\n",
    "plt.show()"
   ]
  },
  {
   "cell_type": "code",
   "execution_count": 37,
   "metadata": {
    "scrolled": true
   },
   "outputs": [
    {
     "name": "stderr",
     "output_type": "stream",
     "text": [
      "d:\\program files\\python36\\lib\\site-packages\\sklearn\\ensemble\\bagging.py:609: UserWarning: Some inputs do not have OOB scores. This probably means too few estimators were used to compute any reliable oob estimates.\n",
      "  warn(\"Some inputs do not have OOB scores. \"\n",
      "d:\\program files\\python36\\lib\\site-packages\\sklearn\\ensemble\\bagging.py:614: RuntimeWarning: invalid value encountered in true_divide\n",
      "  predictions.sum(axis=1)[:, np.newaxis])\n",
      "d:\\program files\\python36\\lib\\site-packages\\sklearn\\ensemble\\bagging.py:609: UserWarning: Some inputs do not have OOB scores. This probably means too few estimators were used to compute any reliable oob estimates.\n",
      "  warn(\"Some inputs do not have OOB scores. \"\n",
      "d:\\program files\\python36\\lib\\site-packages\\sklearn\\ensemble\\bagging.py:614: RuntimeWarning: invalid value encountered in true_divide\n",
      "  predictions.sum(axis=1)[:, np.newaxis])\n",
      "d:\\program files\\python36\\lib\\site-packages\\sklearn\\ensemble\\bagging.py:609: UserWarning: Some inputs do not have OOB scores. This probably means too few estimators were used to compute any reliable oob estimates.\n",
      "  warn(\"Some inputs do not have OOB scores. \"\n",
      "d:\\program files\\python36\\lib\\site-packages\\sklearn\\ensemble\\bagging.py:614: RuntimeWarning: invalid value encountered in true_divide\n",
      "  predictions.sum(axis=1)[:, np.newaxis])\n",
      "d:\\program files\\python36\\lib\\site-packages\\sklearn\\ensemble\\bagging.py:609: UserWarning: Some inputs do not have OOB scores. This probably means too few estimators were used to compute any reliable oob estimates.\n",
      "  warn(\"Some inputs do not have OOB scores. \"\n",
      "d:\\program files\\python36\\lib\\site-packages\\sklearn\\ensemble\\bagging.py:614: RuntimeWarning: invalid value encountered in true_divide\n",
      "  predictions.sum(axis=1)[:, np.newaxis])\n",
      "d:\\program files\\python36\\lib\\site-packages\\sklearn\\ensemble\\bagging.py:609: UserWarning: Some inputs do not have OOB scores. This probably means too few estimators were used to compute any reliable oob estimates.\n",
      "  warn(\"Some inputs do not have OOB scores. \"\n",
      "d:\\program files\\python36\\lib\\site-packages\\sklearn\\ensemble\\bagging.py:614: RuntimeWarning: invalid value encountered in true_divide\n",
      "  predictions.sum(axis=1)[:, np.newaxis])\n",
      "d:\\program files\\python36\\lib\\site-packages\\sklearn\\ensemble\\bagging.py:609: UserWarning: Some inputs do not have OOB scores. This probably means too few estimators were used to compute any reliable oob estimates.\n",
      "  warn(\"Some inputs do not have OOB scores. \"\n",
      "d:\\program files\\python36\\lib\\site-packages\\sklearn\\ensemble\\bagging.py:614: RuntimeWarning: invalid value encountered in true_divide\n",
      "  predictions.sum(axis=1)[:, np.newaxis])\n",
      "d:\\program files\\python36\\lib\\site-packages\\sklearn\\ensemble\\bagging.py:609: UserWarning: Some inputs do not have OOB scores. This probably means too few estimators were used to compute any reliable oob estimates.\n",
      "  warn(\"Some inputs do not have OOB scores. \"\n",
      "d:\\program files\\python36\\lib\\site-packages\\sklearn\\ensemble\\bagging.py:614: RuntimeWarning: invalid value encountered in true_divide\n",
      "  predictions.sum(axis=1)[:, np.newaxis])\n",
      "d:\\program files\\python36\\lib\\site-packages\\sklearn\\ensemble\\bagging.py:609: UserWarning: Some inputs do not have OOB scores. This probably means too few estimators were used to compute any reliable oob estimates.\n",
      "  warn(\"Some inputs do not have OOB scores. \"\n",
      "d:\\program files\\python36\\lib\\site-packages\\sklearn\\ensemble\\bagging.py:614: RuntimeWarning: invalid value encountered in true_divide\n",
      "  predictions.sum(axis=1)[:, np.newaxis])\n",
      "d:\\program files\\python36\\lib\\site-packages\\sklearn\\ensemble\\bagging.py:609: UserWarning: Some inputs do not have OOB scores. This probably means too few estimators were used to compute any reliable oob estimates.\n",
      "  warn(\"Some inputs do not have OOB scores. \"\n",
      "d:\\program files\\python36\\lib\\site-packages\\sklearn\\ensemble\\bagging.py:614: RuntimeWarning: invalid value encountered in true_divide\n",
      "  predictions.sum(axis=1)[:, np.newaxis])\n",
      "d:\\program files\\python36\\lib\\site-packages\\sklearn\\ensemble\\bagging.py:609: UserWarning: Some inputs do not have OOB scores. This probably means too few estimators were used to compute any reliable oob estimates.\n",
      "  warn(\"Some inputs do not have OOB scores. \"\n",
      "d:\\program files\\python36\\lib\\site-packages\\sklearn\\ensemble\\bagging.py:614: RuntimeWarning: invalid value encountered in true_divide\n",
      "  predictions.sum(axis=1)[:, np.newaxis])\n",
      "d:\\program files\\python36\\lib\\site-packages\\sklearn\\ensemble\\bagging.py:609: UserWarning: Some inputs do not have OOB scores. This probably means too few estimators were used to compute any reliable oob estimates.\n",
      "  warn(\"Some inputs do not have OOB scores. \"\n",
      "d:\\program files\\python36\\lib\\site-packages\\sklearn\\ensemble\\bagging.py:614: RuntimeWarning: invalid value encountered in true_divide\n",
      "  predictions.sum(axis=1)[:, np.newaxis])\n",
      "d:\\program files\\python36\\lib\\site-packages\\sklearn\\ensemble\\bagging.py:609: UserWarning: Some inputs do not have OOB scores. This probably means too few estimators were used to compute any reliable oob estimates.\n",
      "  warn(\"Some inputs do not have OOB scores. \"\n",
      "d:\\program files\\python36\\lib\\site-packages\\sklearn\\ensemble\\bagging.py:614: RuntimeWarning: invalid value encountered in true_divide\n",
      "  predictions.sum(axis=1)[:, np.newaxis])\n",
      "d:\\program files\\python36\\lib\\site-packages\\sklearn\\ensemble\\bagging.py:609: UserWarning: Some inputs do not have OOB scores. This probably means too few estimators were used to compute any reliable oob estimates.\n",
      "  warn(\"Some inputs do not have OOB scores. \"\n",
      "d:\\program files\\python36\\lib\\site-packages\\sklearn\\ensemble\\bagging.py:614: RuntimeWarning: invalid value encountered in true_divide\n",
      "  predictions.sum(axis=1)[:, np.newaxis])\n",
      "d:\\program files\\python36\\lib\\site-packages\\sklearn\\ensemble\\bagging.py:609: UserWarning: Some inputs do not have OOB scores. This probably means too few estimators were used to compute any reliable oob estimates.\n",
      "  warn(\"Some inputs do not have OOB scores. \"\n",
      "d:\\program files\\python36\\lib\\site-packages\\sklearn\\ensemble\\bagging.py:614: RuntimeWarning: invalid value encountered in true_divide\n",
      "  predictions.sum(axis=1)[:, np.newaxis])\n",
      "d:\\program files\\python36\\lib\\site-packages\\sklearn\\ensemble\\bagging.py:609: UserWarning: Some inputs do not have OOB scores. This probably means too few estimators were used to compute any reliable oob estimates.\n",
      "  warn(\"Some inputs do not have OOB scores. \"\n",
      "d:\\program files\\python36\\lib\\site-packages\\sklearn\\ensemble\\bagging.py:614: RuntimeWarning: invalid value encountered in true_divide\n",
      "  predictions.sum(axis=1)[:, np.newaxis])\n",
      "d:\\program files\\python36\\lib\\site-packages\\sklearn\\ensemble\\bagging.py:609: UserWarning: Some inputs do not have OOB scores. This probably means too few estimators were used to compute any reliable oob estimates.\n",
      "  warn(\"Some inputs do not have OOB scores. \"\n",
      "d:\\program files\\python36\\lib\\site-packages\\sklearn\\ensemble\\bagging.py:614: RuntimeWarning: invalid value encountered in true_divide\n",
      "  predictions.sum(axis=1)[:, np.newaxis])\n",
      "d:\\program files\\python36\\lib\\site-packages\\sklearn\\ensemble\\bagging.py:609: UserWarning: Some inputs do not have OOB scores. This probably means too few estimators were used to compute any reliable oob estimates.\n",
      "  warn(\"Some inputs do not have OOB scores. \"\n",
      "d:\\program files\\python36\\lib\\site-packages\\sklearn\\ensemble\\bagging.py:614: RuntimeWarning: invalid value encountered in true_divide\n",
      "  predictions.sum(axis=1)[:, np.newaxis])\n",
      "d:\\program files\\python36\\lib\\site-packages\\sklearn\\ensemble\\bagging.py:609: UserWarning: Some inputs do not have OOB scores. This probably means too few estimators were used to compute any reliable oob estimates.\n",
      "  warn(\"Some inputs do not have OOB scores. \"\n",
      "d:\\program files\\python36\\lib\\site-packages\\sklearn\\ensemble\\bagging.py:614: RuntimeWarning: invalid value encountered in true_divide\n",
      "  predictions.sum(axis=1)[:, np.newaxis])\n",
      "d:\\program files\\python36\\lib\\site-packages\\sklearn\\ensemble\\bagging.py:609: UserWarning: Some inputs do not have OOB scores. This probably means too few estimators were used to compute any reliable oob estimates.\n",
      "  warn(\"Some inputs do not have OOB scores. \"\n",
      "d:\\program files\\python36\\lib\\site-packages\\sklearn\\ensemble\\bagging.py:614: RuntimeWarning: invalid value encountered in true_divide\n",
      "  predictions.sum(axis=1)[:, np.newaxis])\n",
      "d:\\program files\\python36\\lib\\site-packages\\sklearn\\ensemble\\bagging.py:609: UserWarning: Some inputs do not have OOB scores. This probably means too few estimators were used to compute any reliable oob estimates.\n",
      "  warn(\"Some inputs do not have OOB scores. \"\n",
      "d:\\program files\\python36\\lib\\site-packages\\sklearn\\ensemble\\bagging.py:614: RuntimeWarning: invalid value encountered in true_divide\n",
      "  predictions.sum(axis=1)[:, np.newaxis])\n"
     ]
    },
    {
     "name": "stderr",
     "output_type": "stream",
     "text": [
      "d:\\program files\\python36\\lib\\site-packages\\sklearn\\ensemble\\bagging.py:609: UserWarning: Some inputs do not have OOB scores. This probably means too few estimators were used to compute any reliable oob estimates.\n",
      "  warn(\"Some inputs do not have OOB scores. \"\n",
      "d:\\program files\\python36\\lib\\site-packages\\sklearn\\ensemble\\bagging.py:614: RuntimeWarning: invalid value encountered in true_divide\n",
      "  predictions.sum(axis=1)[:, np.newaxis])\n",
      "d:\\program files\\python36\\lib\\site-packages\\sklearn\\ensemble\\bagging.py:609: UserWarning: Some inputs do not have OOB scores. This probably means too few estimators were used to compute any reliable oob estimates.\n",
      "  warn(\"Some inputs do not have OOB scores. \"\n",
      "d:\\program files\\python36\\lib\\site-packages\\sklearn\\ensemble\\bagging.py:614: RuntimeWarning: invalid value encountered in true_divide\n",
      "  predictions.sum(axis=1)[:, np.newaxis])\n",
      "d:\\program files\\python36\\lib\\site-packages\\sklearn\\ensemble\\bagging.py:609: UserWarning: Some inputs do not have OOB scores. This probably means too few estimators were used to compute any reliable oob estimates.\n",
      "  warn(\"Some inputs do not have OOB scores. \"\n",
      "d:\\program files\\python36\\lib\\site-packages\\sklearn\\ensemble\\bagging.py:614: RuntimeWarning: invalid value encountered in true_divide\n",
      "  predictions.sum(axis=1)[:, np.newaxis])\n",
      "d:\\program files\\python36\\lib\\site-packages\\sklearn\\ensemble\\bagging.py:609: UserWarning: Some inputs do not have OOB scores. This probably means too few estimators were used to compute any reliable oob estimates.\n",
      "  warn(\"Some inputs do not have OOB scores. \"\n",
      "d:\\program files\\python36\\lib\\site-packages\\sklearn\\ensemble\\bagging.py:614: RuntimeWarning: invalid value encountered in true_divide\n",
      "  predictions.sum(axis=1)[:, np.newaxis])\n",
      "d:\\program files\\python36\\lib\\site-packages\\sklearn\\ensemble\\bagging.py:609: UserWarning: Some inputs do not have OOB scores. This probably means too few estimators were used to compute any reliable oob estimates.\n",
      "  warn(\"Some inputs do not have OOB scores. \"\n",
      "d:\\program files\\python36\\lib\\site-packages\\sklearn\\ensemble\\bagging.py:614: RuntimeWarning: invalid value encountered in true_divide\n",
      "  predictions.sum(axis=1)[:, np.newaxis])\n",
      "d:\\program files\\python36\\lib\\site-packages\\sklearn\\ensemble\\bagging.py:609: UserWarning: Some inputs do not have OOB scores. This probably means too few estimators were used to compute any reliable oob estimates.\n",
      "  warn(\"Some inputs do not have OOB scores. \"\n",
      "d:\\program files\\python36\\lib\\site-packages\\sklearn\\ensemble\\bagging.py:614: RuntimeWarning: invalid value encountered in true_divide\n",
      "  predictions.sum(axis=1)[:, np.newaxis])\n",
      "d:\\program files\\python36\\lib\\site-packages\\sklearn\\ensemble\\bagging.py:609: UserWarning: Some inputs do not have OOB scores. This probably means too few estimators were used to compute any reliable oob estimates.\n",
      "  warn(\"Some inputs do not have OOB scores. \"\n",
      "d:\\program files\\python36\\lib\\site-packages\\sklearn\\ensemble\\bagging.py:614: RuntimeWarning: invalid value encountered in true_divide\n",
      "  predictions.sum(axis=1)[:, np.newaxis])\n",
      "d:\\program files\\python36\\lib\\site-packages\\sklearn\\ensemble\\bagging.py:609: UserWarning: Some inputs do not have OOB scores. This probably means too few estimators were used to compute any reliable oob estimates.\n",
      "  warn(\"Some inputs do not have OOB scores. \"\n",
      "d:\\program files\\python36\\lib\\site-packages\\sklearn\\ensemble\\bagging.py:614: RuntimeWarning: invalid value encountered in true_divide\n",
      "  predictions.sum(axis=1)[:, np.newaxis])\n",
      "d:\\program files\\python36\\lib\\site-packages\\sklearn\\ensemble\\bagging.py:609: UserWarning: Some inputs do not have OOB scores. This probably means too few estimators were used to compute any reliable oob estimates.\n",
      "  warn(\"Some inputs do not have OOB scores. \"\n",
      "d:\\program files\\python36\\lib\\site-packages\\sklearn\\ensemble\\bagging.py:614: RuntimeWarning: invalid value encountered in true_divide\n",
      "  predictions.sum(axis=1)[:, np.newaxis])\n",
      "d:\\program files\\python36\\lib\\site-packages\\sklearn\\ensemble\\bagging.py:609: UserWarning: Some inputs do not have OOB scores. This probably means too few estimators were used to compute any reliable oob estimates.\n",
      "  warn(\"Some inputs do not have OOB scores. \"\n",
      "d:\\program files\\python36\\lib\\site-packages\\sklearn\\ensemble\\bagging.py:614: RuntimeWarning: invalid value encountered in true_divide\n",
      "  predictions.sum(axis=1)[:, np.newaxis])\n",
      "d:\\program files\\python36\\lib\\site-packages\\sklearn\\ensemble\\bagging.py:609: UserWarning: Some inputs do not have OOB scores. This probably means too few estimators were used to compute any reliable oob estimates.\n",
      "  warn(\"Some inputs do not have OOB scores. \"\n",
      "d:\\program files\\python36\\lib\\site-packages\\sklearn\\ensemble\\bagging.py:614: RuntimeWarning: invalid value encountered in true_divide\n",
      "  predictions.sum(axis=1)[:, np.newaxis])\n",
      "d:\\program files\\python36\\lib\\site-packages\\sklearn\\ensemble\\bagging.py:609: UserWarning: Some inputs do not have OOB scores. This probably means too few estimators were used to compute any reliable oob estimates.\n",
      "  warn(\"Some inputs do not have OOB scores. \"\n",
      "d:\\program files\\python36\\lib\\site-packages\\sklearn\\ensemble\\bagging.py:614: RuntimeWarning: invalid value encountered in true_divide\n",
      "  predictions.sum(axis=1)[:, np.newaxis])\n",
      "d:\\program files\\python36\\lib\\site-packages\\sklearn\\ensemble\\bagging.py:609: UserWarning: Some inputs do not have OOB scores. This probably means too few estimators were used to compute any reliable oob estimates.\n",
      "  warn(\"Some inputs do not have OOB scores. \"\n",
      "d:\\program files\\python36\\lib\\site-packages\\sklearn\\ensemble\\bagging.py:614: RuntimeWarning: invalid value encountered in true_divide\n",
      "  predictions.sum(axis=1)[:, np.newaxis])\n",
      "d:\\program files\\python36\\lib\\site-packages\\sklearn\\ensemble\\bagging.py:609: UserWarning: Some inputs do not have OOB scores. This probably means too few estimators were used to compute any reliable oob estimates.\n",
      "  warn(\"Some inputs do not have OOB scores. \"\n",
      "d:\\program files\\python36\\lib\\site-packages\\sklearn\\ensemble\\bagging.py:614: RuntimeWarning: invalid value encountered in true_divide\n",
      "  predictions.sum(axis=1)[:, np.newaxis])\n",
      "d:\\program files\\python36\\lib\\site-packages\\sklearn\\ensemble\\bagging.py:609: UserWarning: Some inputs do not have OOB scores. This probably means too few estimators were used to compute any reliable oob estimates.\n",
      "  warn(\"Some inputs do not have OOB scores. \"\n",
      "d:\\program files\\python36\\lib\\site-packages\\sklearn\\ensemble\\bagging.py:614: RuntimeWarning: invalid value encountered in true_divide\n",
      "  predictions.sum(axis=1)[:, np.newaxis])\n",
      "d:\\program files\\python36\\lib\\site-packages\\sklearn\\ensemble\\bagging.py:609: UserWarning: Some inputs do not have OOB scores. This probably means too few estimators were used to compute any reliable oob estimates.\n",
      "  warn(\"Some inputs do not have OOB scores. \"\n",
      "d:\\program files\\python36\\lib\\site-packages\\sklearn\\ensemble\\bagging.py:614: RuntimeWarning: invalid value encountered in true_divide\n",
      "  predictions.sum(axis=1)[:, np.newaxis])\n",
      "d:\\program files\\python36\\lib\\site-packages\\sklearn\\ensemble\\bagging.py:609: UserWarning: Some inputs do not have OOB scores. This probably means too few estimators were used to compute any reliable oob estimates.\n",
      "  warn(\"Some inputs do not have OOB scores. \"\n",
      "d:\\program files\\python36\\lib\\site-packages\\sklearn\\ensemble\\bagging.py:614: RuntimeWarning: invalid value encountered in true_divide\n",
      "  predictions.sum(axis=1)[:, np.newaxis])\n"
     ]
    },
    {
     "name": "stdout",
     "output_type": "stream",
     "text": [
      "Wall time: 5min 21s\n"
     ]
    }
   ],
   "source": [
    "%%time\n",
    "errores_noreg_train = []\n",
    "errores_noreg_val = []\n",
    "errores_reg_train = []\n",
    "errores_reg_val = []\n",
    "oob_noreg= []\n",
    "oob_reg = []\n",
    "for i in range(150):\n",
    "    Random_noreg = BaggingClassifier(base_estimator=Arbol(), n_estimators=i+1, n_jobs=-1, oob_score=True)\n",
    "    Random_reg = BaggingClassifier(oob_score=True, base_estimator=Arbol(max_depth=9,criterion='gini',splitter='best',min_samples_split=10), n_estimators=i+1, n_jobs=-1)\n",
    "    Random_noreg.fit(X_train,Y_train)\n",
    "    Random_reg.fit(X_train,Y_train)\n",
    "    oob_noreg.append(Random_noreg.oob_score_)\n",
    "    oob_reg.append(Random_reg.oob_score_)\n",
    "    predicciones_noreg_train = Random_noreg.predict(X_train)\n",
    "    predicciones_noreg_val = Random_noreg.predict(X_val)\n",
    "    predicciones_reg_train = Random_reg.predict(X_train)\n",
    "    predicciones_reg_val = Random_reg.predict(X_val)\n",
    "    errores_noreg_train.append(f1_score(y_true=Y_train,y_pred=predicciones_noreg_train,average=\"micro\"))\n",
    "    errores_noreg_val.append(f1_score(y_true=Y_val,y_pred=predicciones_noreg_val,average=\"micro\"))\n",
    "    errores_reg_train.append(f1_score(y_true=Y_train,y_pred=predicciones_reg_train,average=\"micro\"))\n",
    "    errores_reg_val.append(f1_score(y_true=Y_val,y_pred=predicciones_reg_val,average=\"micro\"))  "
   ]
  },
  {
   "cell_type": "code",
   "execution_count": 38,
   "metadata": {},
   "outputs": [
    {
     "data": {
      "image/png": "[encoded data removed]",
      "text/plain": [
       "<Figure size 432x288 with 1 Axes>"
      ]
     },
     "metadata": {
      "needs_background": "light"
     },
     "output_type": "display_data"
    }
   ],
   "source": [
    "indices = []\n",
    "for i in range(150): #usar mismo range que el de entrenamiento en el for gigante\n",
    "    indices.append(i+1)\n",
    "plt.plot(indices,errores_noreg_train3,\"red\",label=\"train f1\")\n",
    "plt.plot(indices,errores_noreg_val3,\"blue\",label=\"validation f1\")\n",
    "plt.plot(indices,oob_noreg,\"green\",label=\"oob\")\n",
    "plt.title(\"Bagging no regularizado\")\n",
    "plt.xlabel(\"Cantidad de arboles\")\n",
    "plt.ylabel(\"1-Error\")\n",
    "plt.legend()\n",
    "plt.show()"
   ]
  },
  {
   "cell_type": "code",
   "execution_count": 39,
   "metadata": {},
   "outputs": [
    {
     "data": {
      "image/png": "[encoded data removed]",
      "text/plain": [
       "<Figure size 432x288 with 1 Axes>"
      ]
     },
     "metadata": {
      "needs_background": "light"
     },
     "output_type": "display_data"
    }
   ],
   "source": [
    "plt.plot(indices,errores_reg_train3,\"red\",label=\"train f1\")\n",
    "plt.plot(indices,errores_reg_val3,\"blue\",label=\"validation f1\")\n",
    "plt.plot(indices,oob_reg,\"green\",label=\"oob\")\n",
    "plt.title(\"Bagging regularizado\")\n",
    "plt.xlabel(\"Cantidad de arboles\")\n",
    "plt.ylabel(\"1-Error\")\n",
    "plt.legend()\n",
    "plt.show()"
   ]
  },
  {
   "cell_type": "markdown",
   "metadata": {},
   "source": [
    "En ambos casos, se aprecia que sigue un comportamiento similar a la métrica F1, e incluso un comportamiento similar a la suma (o diferencia) de los score F1 de entrenamiento y validación, lo cual puede resultar un buen estimador de generalización para los ensamblados en base a bagging de árboles, pese a perder una leve cantidad de puntaje respecto a validación.  \n",
    "Pero, esto no es conveniente si se emplea pocos estimadores en el ensamblado, debido a que se posee pocos remuestreos realizados, lo cual hace no confiable el uso de OOB en dichos casos."
   ]
  },
  {
   "cell_type": "markdown",
   "metadata": {},
   "source": [
    "> h) Entrene alguna otra máquina de aprendizaje, elegida por usted de entre todas las vistas en el curso, para resolver el problema. Elija los hiper-parámetros que estime convenientes intentando aumentar el *F1-scor*e obtenido por los algoritmos anteriores ¿Se logra una mejora? ¿Por qué?\n",
    "\n",
    "Como la dimensionalidad del problema es relativamente baja, resulta interesante emplear KNN para generar fronteras no lineales para clasificar los vinos según su calidad. Se probará tanto en su forma de regresor y clasificador. Se redondeará los valores predecidos con el regresor para mantener clasificaciones enteras."
   ]
  },
  {
   "cell_type": "code",
   "execution_count": 41,
   "metadata": {},
   "outputs": [],
   "source": [
    "#Modelos posibles: NB, SVM, ANN, KNN\n",
    "from sklearn.neighbors import KNeighborsRegressor as KNN_R\n",
    "from sklearn.neighbors import KNeighborsClassifier as KNN_C"
   ]
  },
  {
   "cell_type": "code",
   "execution_count": 46,
   "metadata": {},
   "outputs": [],
   "source": [
    "vecinos_r = []\n",
    "vecinos_c = []\n",
    "for i in range(1,5):\n",
    "    modelo_r = KNN_R(n_neighbors=5*i)\n",
    "    modelo_c = KNN_C(n_neighbors=5*i)\n",
    "    modelo_r.fit(X_train,Y_train)\n",
    "    modelo_c.fit(X_train,Y_train)\n",
    "    vecinos_r.append(modelo_r)\n",
    "    vecinos_c.append(modelo_c)\n",
    "    "
   ]
  },
  {
   "cell_type": "code",
   "execution_count": 50,
   "metadata": {},
   "outputs": [],
   "source": [
    "errores_classif_train = []\n",
    "errores_regres_train = []\n",
    "errores_classif_valid = []\n",
    "errores_regres_valid = []\n",
    "indices = []\n",
    "for i in range(1,5):\n",
    "    indices.append(i*5)\n",
    "    prediccion_classif_train = vecinos_c[i-1].predict(X_train)\n",
    "    prediccion_classif_valid = vecinos_c[i-1].predict(X_val)\n",
    "    prediccion_regres_train = list(map(round, vecinos_r[i-1].predict(X_train)))\n",
    "    prediccion_regres_valid = list(map(round, vecinos_r[i-1].predict(X_val)))\n",
    "    errores_classif_train.append(f1_score(y_true=Y_train, y_pred=prediccion_classif_train, average=\"micro\"))\n",
    "    errores_regres_train.append(f1_score(y_true=Y_train, y_pred=prediccion_regres_train, average=\"micro\"))\n",
    "    errores_classif_valid.append(f1_score(y_true=Y_val, y_pred=prediccion_classif_valid, average=\"micro\"))\n",
    "    errores_regres_valid.append(f1_score(y_true=Y_val, y_pred=prediccion_regres_valid, average=\"micro\"))"
   ]
  },
  {
   "cell_type": "code",
   "execution_count": 51,
   "metadata": {},
   "outputs": [
    {
     "data": {
      "image/png": "[encoded data removed]",
      "text/plain": [
       "<Figure size 432x288 with 1 Axes>"
      ]
     },
     "metadata": {
      "needs_background": "light"
     },
     "output_type": "display_data"
    }
   ],
   "source": [
    "plt.plot(indices,errores_classif_train ,\"red\",label=\"train\")\n",
    "plt.plot(indices,errores_classif_valid,\"blue\",label=\"validation\")\n",
    "plt.title(\"Clasificador KNN\")\n",
    "plt.xlabel(\"Cantidad de Vecinos\")\n",
    "plt.ylabel(\"1-Error\")\n",
    "plt.legend()\n",
    "plt.show()"
   ]
  },
  {
   "cell_type": "code",
   "execution_count": 52,
   "metadata": {},
   "outputs": [
    {
     "data": {
      "image/png": "[encoded data removed]",
      "text/plain": [
       "<Figure size 432x288 with 1 Axes>"
      ]
     },
     "metadata": {
      "needs_background": "light"
     },
     "output_type": "display_data"
    }
   ],
   "source": [
    "plt.plot(indices,errores_regres_train ,\"red\",label=\"train\")\n",
    "plt.plot(indices,errores_regres_valid,\"blue\",label=\"validation\")\n",
    "plt.title(\"Regresor KNN\")\n",
    "plt.xlabel(\"Cantidad de Vecinos\")\n",
    "plt.ylabel(\"1-Error\")\n",
    "plt.legend()\n",
    "plt.show()"
   ]
  },
  {
   "cell_type": "markdown",
   "metadata": {},
   "source": [
    "Usualmente, se recomienda usar una cantidad cercana a 5 como vecinos para este método, ya que el comportamiento se vuelve anómalo al emplear mayor cantidad de vecinos. Se puede apreciar una disminución en la capacidad de generalización en ambos casos, lo cual se espera a considerar cantidades ridiculas de vecinos.\n",
    "Como se aprecia en ambos gráficos, KNN posee un mejor poder de generaliación respecto a los árboles y sus ensamblados, pero con un menor desempeño en la performance de validación."
   ]
  },
  {
   "cell_type": "markdown",
   "metadata": {},
   "source": [
    "> i) Compare y analice las distintas maneras con las que se resolvió el problema definido en b), por ejemplo incluya las decisiones que conlleva y los resultados que reflejan.\n",
    "\n",
    "En primer lugar, uno de los grandes problemas del dataset es la \"subjetividad\" de la calidad. En otras palabras, los learners empleados no aprenderan la calidad del vino de manera global, mas bien simulará las preferencias del juez que generó dicha calificación: se busca predecir el juicio de cierto juez.  \n",
    "Otro punto de vista, es que el dataset se haya obtenido a través de una recopilación de calificaciones de distintos jueces (estilo *Metacritic*), lo cual la identidad del juez puede afectar los resultados obtenidos debido a las preferencias particulares de cada juez y sus escalas de calidad, las cuales pueden ser \"lineales\" o no. Se presume que se asume que el dataset trabajado corresponde al primer caso mencionado.  \n",
    "\n",
    "Por otro lado, para poder aplicar una regresión, se debe conocer si la escala empleada es lineal, logaritmica, etc., para poder elegir de buena manera el tipo de regresor a entrenar, lo cual se desconoce. Esto se traduce, por ejemplo para la escala lineal, que se debe conocer si la diferencia de calidad entre 0 y 1 es equivalente a la diferencia entre 9 y 10. Finalmente, como las clasificaciones corresponden son enteras, se deben obtener resultados enteros con el regresor. Esto implica que los resultados no enteros deban ser aproximados de alguna manera, lo cual se vuelve complicado al considerar lo mencionado para la selección del tipo de regresor. De manera burda, se debe diseñar distintos regresores capaces de entregar solo valores discretos, o regresor-clasificador.  \n",
    "\n",
    "Al considerar todos los atributos, se espera un mejor ajuste en los árboles (considerando el riesgo de overfitting) respecto a KNN, lo cual se puede apreciar en los ensemblers empleados, los cuales reducen la varianza inherente de los modelos de árboles. Se espera que, escogiendo las mejores dimensiones (usando algún criterio de importancia como el entegado por random forest) el rendimiento de KNN mejore."
   ]
  },
  {
   "cell_type": "markdown",
   "metadata": {},
   "source": [
    "> j) Defina otra forma de combinar los valores que entregan los ensamblados al hacer predicciones y compare con lo que se hace actualmente, por ejemplo *Bagging* realiza el voto de la mayoría para clasificación y promedio para regresión, *AdaBoost* realiza una combinación ponderada de cada clasificador dependiendo de su *habilidad* (desempeño para clasificar el conjunto de entrenamiento).\n",
    "```python\n",
    "def combine_predictions(predictions):\n",
    "    return #define !\n",
    "list_estimators = model.estimators_\n",
    "list_predictions = [estimator.predict(X_test) for estimator in list_estimators]\n",
    "new_predictions = combine_predictions(list_predictions)\n",
    "...#measure f1 score\n",
    "f1_score(y_test, new_predictions)\n",
    "```"
   ]
  },
  {
   "cell_type": "markdown",
   "metadata": {},
   "source": [
    "\n",
    "> k) Utilice la técnica de ensamblado para seleccionar características, para ésto defina un criterio para estimar la importancia de los distintos atributos en el ensamblado, impleméntelo sobre alguno de los ensambladores entrenados para resolver el problema definido en b). Realice un *ranking* de importancia de atributos y seleccione las $k$ características más relevantes.\n",
    "\n",
    "A partir de los resultados obtenidos previamente, como heuristica se emplea el random forest con mejor resultado, el cual emplea 112 árboles no regularizados, para estimar los atributos más importantes. Se seleccionarán los 4 atributos más importantes."
   ]
  },
  {
   "cell_type": "code",
   "execution_count": 56,
   "metadata": {},
   "outputs": [
    {
     "name": "stdout",
     "output_type": "stream",
     "text": [
      "\n"
     ]
    }
   ],
   "source": [
    "rf_importances = RandomForestClassifier(n_estimators=112, n_jobs=-1)\n",
    "rf_importances.fit(X_train, Y_train)\n",
    "print()"
   ]
  },
  {
   "cell_type": "code",
   "execution_count": 84,
   "metadata": {},
   "outputs": [],
   "source": [
    "dicc_importancias = dict()\n",
    "for i in range(len(list(X_train))):\n",
    "    dicc_importancias[rf_importances.feature_importances_[i]] = list(X_train)[i]"
   ]
  },
  {
   "cell_type": "code",
   "execution_count": 83,
   "metadata": {},
   "outputs": [
    {
     "name": "stdout",
     "output_type": "stream",
     "text": [
      "['alcohol', 'volatile acidity', 'density', 'total sulfur dioxide']\n"
     ]
    }
   ],
   "source": [
    "atributos_importantes = [dicc_importancias[sorted(rf_importances.feature_importances_)[-i-1]] for i in range(4)]\n",
    "print(atributos_importantes)"
   ]
  },
  {
   "cell_type": "markdown",
   "metadata": {},
   "source": [
    "Estos atributos elegidos, de cierta manera, afectan en el sabor, olor y la textura del vino, lo cual son atributos que usualmente son los que influyen en la decisión de catadores de vino. Aunque el alcohol de los vinos deberian ser el mismo, en realidad estan dentro de un rango según el tipo de vino, lo cual puede cambiar la percepción de este en la boca de una persona."
   ]
  },
  {
   "cell_type": "markdown",
   "metadata": {},
   "source": [
    "> l) Entrene la máquina de aprendizaje definida en h) sobre las $k$ carecterísticas derivadas del punto anterior ¿Mejora los resultados sobre ésta máquina de aprendizaje?"
   ]
  },
  {
   "cell_type": "code",
   "execution_count": 85,
   "metadata": {},
   "outputs": [],
   "source": [
    "X_train_red = X_train[atributos_importantes]\n",
    "X_val_red = X_val[atributos_importantes]\n",
    "\n",
    "vecinos_r = []\n",
    "vecinos_c = []\n",
    "for i in range(1,5):\n",
    "    modelo_r = KNN_R(n_neighbors=5*i)\n",
    "    modelo_c = KNN_C(n_neighbors=5*i)\n",
    "    modelo_r.fit(X_train_red,Y_train)\n",
    "    modelo_c.fit(X_train_red,Y_train)\n",
    "    vecinos_r.append(modelo_r)\n",
    "    vecinos_c.append(modelo_c)\n",
    "    \n",
    "errores_classif_train = []\n",
    "errores_regres_train = []\n",
    "errores_classif_valid = []\n",
    "errores_regres_valid = []\n",
    "indices = []\n",
    "for i in range(1,5):\n",
    "    indices.append(i*5)\n",
    "    prediccion_classif_train = vecinos_c[i-1].predict(X_train_red)\n",
    "    prediccion_classif_valid = vecinos_c[i-1].predict(X_val_red)\n",
    "    prediccion_regres_train = list(map(round, vecinos_r[i-1].predict(X_train_red)))\n",
    "    prediccion_regres_valid = list(map(round, vecinos_r[i-1].predict(X_val_red)))\n",
    "    errores_classif_train.append(f1_score(y_true=Y_train, y_pred=prediccion_classif_train, average=\"micro\"))\n",
    "    errores_regres_train.append(f1_score(y_true=Y_train, y_pred=prediccion_regres_train, average=\"micro\"))\n",
    "    errores_classif_valid.append(f1_score(y_true=Y_val, y_pred=prediccion_classif_valid, average=\"micro\"))\n",
    "    errores_regres_valid.append(f1_score(y_true=Y_val, y_pred=prediccion_regres_valid, average=\"micro\"))"
   ]
  },
  {
   "cell_type": "code",
   "execution_count": 86,
   "metadata": {
    "scrolled": true
   },
   "outputs": [
    {
     "data": {
      "image/png": "[encoded data removed]",
      "text/plain": [
       "<Figure size 432x288 with 1 Axes>"
      ]
     },
     "metadata": {
      "needs_background": "light"
     },
     "output_type": "display_data"
    }
   ],
   "source": [
    "plt.plot(indices,errores_classif_train ,\"red\",label=\"train\")\n",
    "plt.plot(indices,errores_classif_valid,\"blue\",label=\"validation\")\n",
    "plt.title(\"Clasificador KNN\")\n",
    "plt.xlabel(\"Cantidad de Vecinos\")\n",
    "plt.ylabel(\"1-Error\")\n",
    "plt.legend()\n",
    "plt.show()"
   ]
  },
  {
   "cell_type": "code",
   "execution_count": 87,
   "metadata": {},
   "outputs": [
    {
     "data": {
      "image/png": "[encoded data removed]",
      "text/plain": [
       "<Figure size 432x288 with 1 Axes>"
      ]
     },
     "metadata": {
      "needs_background": "light"
     },
     "output_type": "display_data"
    }
   ],
   "source": [
    "plt.plot(indices,errores_regres_train ,\"red\",label=\"train\")\n",
    "plt.plot(indices,errores_regres_valid,\"blue\",label=\"validation\")\n",
    "plt.title(\"Regresor KNN\")\n",
    "plt.xlabel(\"Cantidad de Vecinos\")\n",
    "plt.ylabel(\"1-Error\")\n",
    "plt.legend()\n",
    "plt.show()"
   ]
  },
  {
   "cell_type": "markdown",
   "metadata": {},
   "source": [
    "Como se esperaba, reducir la dimensionalidad hace maravillas en los resultados obtenidos en KNN, aumentando el score obtenido con 5 vecinos tanto en entrenamiento como en validación, y en ambos modelos trabajados. Esto explica que existen propiedades del vinos que generan ruido a KNN, las cuales al ignorarlas permite mejorar el rendimiento del modelo."
   ]
  },
  {
   "cell_type": "markdown",
   "metadata": {},
   "source": [
    "<a id=\"segundo\"></a>\n",
    "## 2. Redes Convolucionales sobre imágenes\n",
    "---\n",
    "Las redes neuronales hoy en día han sido extendidas a numerosas aplicaciones gracias a la arquitectura definida para cada tipo de problema. Las redes neuronales que aplican la operación de convolución [[3]](#refs) o convoluciones en sus capas son concidas como *CNN* o *ConvNets*, lo cual se especializa en trabajar en datos con forma matricial (ya sea bi-dimensional o tri-dimensional), lo cual se adecúa perfectamente a imágenes (matrices), ya que gracias a su conectividad local se especializan en reconocer patrones sobre los datos de manera espacial, como refleja la siguiente imagen:\n",
    "\n",
    "<img src=\"https://cdn-images-1.medium.com/max/1600/1*N4h1SgwbWNmtrRhszM9EJg.png\" title=\"Title text\" width=\"90%\" />\n",
    "\n",
    "\n",
    "En esta actividad trabajará con un extracto bastante pequeño del dataset conocido como **101-Food**[[4]](#refs), el cual consta de mil imágenes pertenecientes a 3 clases (*Hambuger, Hot Dog* y *Pizza*) separados en conjunto de entrenamiento y validación.  \n",
    "El extracto pequeño del dataset con el que se trabajará deberá ser descargado del siguiente __[link](https://www.dropbox.com/s/56xqazmhbh0doi7/food_data.zip?dl=0)__ a través de Dropbox.\n",
    "\n",
    "> a) Construya funciones para leer los datos y cargarlos al momento de entrenar (durante cada *epoch*), para ésto utilice *Image Data Generator* de keras.\n",
    "\n",
    "Los datos son imagenes de comida, se tienen 3 clases: \n",
    "\n",
    "* Hamburguesas\n",
    "* Hot Dogs\n",
    "* Pizza\n",
    "\n",
    "Se cuenta con una carpeta de entrenamiento y cada una contiene una carpeta correspondiente a cada clase. También se cuenta con una carpeta de validación con la misma estructura."
   ]
  },
  {
   "cell_type": "code",
   "execution_count": 1,
   "metadata": {},
   "outputs": [
    {
     "name": "stderr",
     "output_type": "stream",
     "text": [
      "Using TensorFlow backend.\n"
     ]
    }
   ],
   "source": [
    "from keras.preprocessing.image import ImageDataGenerator"
   ]
  },
  {
   "cell_type": "markdown",
   "metadata": {},
   "source": [
    "ImageDataGenerator es una funcionalidad de keras que permite generar batchs de imágenes utilizando data en tiempo real aumentada, esto dará material de entrenamiento para la red neuronal en base a los parámetros dados.\n",
    "\n",
    "El conjunto de entrenamiento sufre una pequeña transformación que consiste en una rotación, esto es para aumentar el número de datos ya que las imágenes tienen demasiadas dimensiones y esto permitirá aumentar el tamaño del conjunto de entrenamiento teniendo imágenes ligeramente distintas como se muestra en la siguiente imagen:\n",
    "\n",
    "<img src=\"https://cdn-images-1.medium.com/max/1250/1*L07HTRw7zuHGT4oYEMlDig.jpeg\" title=Ejemplo width=\"55%\"/>\n",
    "\n",
    "En base a esto es que en el código se ve una transformación del conjunto de entrenamiento y no de validación porque no es la idea aumentar este último."
   ]
  },
  {
   "cell_type": "code",
   "execution_count": 47,
   "metadata": {},
   "outputs": [
    {
     "name": "stdout",
     "output_type": "stream",
     "text": [
      "Found 2400 images belonging to 3 classes.\n",
      "Found 600 images belonging to 3 classes.\n"
     ]
    }
   ],
   "source": [
    "train_datagen = ImageDataGenerator(\n",
    "        rescale=1./255, #rescalamiento post-transformacion \n",
    "        shear_range=0.2, #angulo de desplazamiento, shearing es mas sencillo de hacer que transformacion ortogonal\n",
    "        #rotar levemente la imagen en sentido antihorario\n",
    "        zoom_range=0.2,\n",
    "        horizontal_flip=True) #flips input horizontally -> vector\n",
    "\n",
    "test_datagen = ImageDataGenerator(rescale=1./255) #no transformation\n",
    "train_generator = train_datagen.flow_from_directory(\n",
    "        'food_data/train',\n",
    "        target_size=(150, 150),\n",
    "        color_mode='rgb',\n",
    "        batch_size=32)\n",
    "\n",
    "validation_generator = test_datagen.flow_from_directory(\n",
    "        'food_data/val',\n",
    "        target_size=(150, 150),\n",
    "        color_mode='rgb',\n",
    "        batch_size=32)"
   ]
  },
  {
   "cell_type": "markdown",
   "metadata": {},
   "source": [
    "> b) Utilice la red tradicional (*Feed Forward*) entregada en el código para ser entrenada sobre los datos vectorizados, esto es que cada imagen queda representada como un vector gigante, y las 3 clases a las que se enfrenta. Evalúe el modelo con la métrica *accuracy* sobre el conjunto de validación.\n",
    "\n",
    "Una red neuronal *Feed Forward* consta de 3 partes: una capa de entrada, capas intermedias (capas ocultas) y la capa de salida. El objetivo de este modelo es aproximar una función *f\\**, es decir si el output $ y = f^{*}(x)$ esta red se encarga de obtener un mapeo del tipo $f^{*}(x;\\theta)$ y aprende los valores de $\\theta$ que mejor aproximen la función.\n",
    "\n",
    "El nombre de *Feed Forward* se debe a que la información fluye hacia adelante desde la capa de entrada hasta la capa de salida sin alguna retroalimentación que conecte la capa siguiente con la anterior.\n",
    "\n",
    "Las epocas (epoch) son una forma de entrenamiento de la red neuronal"
   ]
  },
  {
   "cell_type": "code",
   "execution_count": 3,
   "metadata": {},
   "outputs": [],
   "source": [
    "import sys\n",
    "from PIL import Image\n",
    "sys.modules['Image'] = Image"
   ]
  },
  {
   "cell_type": "code",
   "execution_count": 25,
   "metadata": {},
   "outputs": [
    {
     "name": "stdout",
     "output_type": "stream",
     "text": [
      "_________________________________________________________________\n",
      "Layer (type)                 Output Shape              Param #   \n",
      "=================================================================\n",
      "flatten_4 (Flatten)          (None, 67500)             0         \n",
      "_________________________________________________________________\n",
      "batch_normalization_3 (Batch (None, 67500)             270000    \n",
      "_________________________________________________________________\n",
      "dense_9 (Dense)              (None, 256)               17280256  \n",
      "_________________________________________________________________\n",
      "dropout_8 (Dropout)          (None, 256)               0         \n",
      "_________________________________________________________________\n",
      "dense_10 (Dense)             (None, 128)               32896     \n",
      "_________________________________________________________________\n",
      "dropout_9 (Dropout)          (None, 128)               0         \n",
      "_________________________________________________________________\n",
      "dense_11 (Dense)             (None, 3)                 387       \n",
      "=================================================================\n",
      "Total params: 17,583,539\n",
      "Trainable params: 17,448,539\n",
      "Non-trainable params: 135,000\n",
      "_________________________________________________________________\n",
      "Epoch 1/25\n",
      "75/75 [==============================] - 36s 485ms/step - loss: 8.5063 - acc: 0.4513 - val_loss: 9.6370 - val_acc: 0.3979\n",
      "Epoch 2/25\n",
      "75/75 [==============================] - 34s 459ms/step - loss: 9.2053 - acc: 0.4204 - val_loss: 9.1046 - val_acc: 0.4261\n",
      "Epoch 3/25\n",
      "75/75 [==============================] - 35s 461ms/step - loss: 8.7817 - acc: 0.4446 - val_loss: 8.4278 - val_acc: 0.4665\n",
      "Epoch 4/25\n",
      "75/75 [==============================] - 37s 488ms/step - loss: 9.1436 - acc: 0.4283 - val_loss: 8.3995 - val_acc: 0.4648\n",
      "Epoch 5/25\n",
      "75/75 [==============================] - 36s 484ms/step - loss: 8.4292 - acc: 0.4721 - val_loss: 8.8442 - val_acc: 0.4489\n",
      "Epoch 6/25\n",
      "75/75 [==============================] - 35s 471ms/step - loss: 8.5883 - acc: 0.4633 - val_loss: 9.0018 - val_acc: 0.4366\n",
      "Epoch 7/25\n",
      "75/75 [==============================] - 35s 467ms/step - loss: 8.2878 - acc: 0.4825 - val_loss: 8.0199 - val_acc: 0.5000\n",
      "Epoch 8/25\n",
      "75/75 [==============================] - 35s 471ms/step - loss: 8.7602 - acc: 0.4542 - val_loss: 8.8956 - val_acc: 0.4472\n",
      "Epoch 9/25\n",
      "75/75 [==============================] - 35s 473ms/step - loss: 8.5689 - acc: 0.4663 - val_loss: 8.0986 - val_acc: 0.4947\n",
      "Epoch 10/25\n",
      "75/75 [==============================] - 37s 497ms/step - loss: 8.5469 - acc: 0.4683 - val_loss: 7.7529 - val_acc: 0.5176\n",
      "Epoch 11/25\n",
      "75/75 [==============================] - 37s 489ms/step - loss: 8.7211 - acc: 0.4571 - val_loss: 8.3224 - val_acc: 0.4806\n",
      "Epoch 12/25\n",
      "75/75 [==============================] - 36s 475ms/step - loss: 8.5841 - acc: 0.4646 - val_loss: 8.4957 - val_acc: 0.4718\n",
      "Epoch 13/25\n",
      "75/75 [==============================] - 36s 481ms/step - loss: 8.6127 - acc: 0.4646 - val_loss: 8.7151 - val_acc: 0.4577\n",
      "Epoch 14/25\n",
      "75/75 [==============================] - 36s 475ms/step - loss: 8.2791 - acc: 0.4825 - val_loss: 8.3713 - val_acc: 0.4806\n",
      "Epoch 15/25\n",
      "75/75 [==============================] - 37s 494ms/step - loss: 8.2637 - acc: 0.4854 - val_loss: 8.4626 - val_acc: 0.4736\n",
      "Epoch 16/25\n",
      "75/75 [==============================] - 52s 699ms/step - loss: 8.2236 - acc: 0.4892 - val_loss: 8.8224 - val_acc: 0.4514\n",
      "Epoch 17/25\n",
      "75/75 [==============================] - 37s 495ms/step - loss: 8.3144 - acc: 0.4829 - val_loss: 9.0920 - val_acc: 0.4349\n",
      "Epoch 18/25\n",
      "75/75 [==============================] - 35s 466ms/step - loss: 8.6727 - acc: 0.4596 - val_loss: 9.1691 - val_acc: 0.4296\n",
      "Epoch 19/25\n",
      "75/75 [==============================] - 35s 469ms/step - loss: 8.7699 - acc: 0.4554 - val_loss: 9.4042 - val_acc: 0.4155\n",
      "Epoch 20/25\n",
      "75/75 [==============================] - 37s 489ms/step - loss: 8.8832 - acc: 0.4483 - val_loss: 8.9455 - val_acc: 0.4419\n",
      "Epoch 21/25\n",
      "75/75 [==============================] - 40s 536ms/step - loss: 8.6927 - acc: 0.4592 - val_loss: 8.9440 - val_acc: 0.4401\n",
      "Epoch 22/25\n",
      "75/75 [==============================] - 38s 505ms/step - loss: 8.9351 - acc: 0.4450 - val_loss: 9.2284 - val_acc: 0.4261\n",
      "Epoch 23/25\n",
      "75/75 [==============================] - 40s 536ms/step - loss: 8.6766 - acc: 0.4588 - val_loss: 9.2342 - val_acc: 0.4261\n",
      "Epoch 24/25\n",
      "75/75 [==============================] - 36s 482ms/step - loss: 8.4874 - acc: 0.4725 - val_loss: 9.2535 - val_acc: 0.4190\n",
      "Epoch 25/25\n",
      "75/75 [==============================] - 37s 495ms/step - loss: 8.4008 - acc: 0.4771 - val_loss: 8.9093 - val_acc: 0.4472\n"
     ]
    },
    {
     "data": {
      "text/plain": [
       "<keras.callbacks.History at 0x146389e5b70>"
      ]
     },
     "execution_count": 25,
     "metadata": {},
     "output_type": "execute_result"
    }
   ],
   "source": [
    "from IPython.display import display\n",
    "from PIL import Image\n",
    "from keras.models import Sequential\n",
    "from keras.layers import *\n",
    "model = Sequential()\n",
    "model.add(Flatten(input_shape=train_generator.image_shape)) #full dense\n",
    "model.add(BatchNormalization()) #to normalize the input..\n",
    "model.add(Dense(256,activation='relu'))\n",
    "model.add(Dropout(0.25)) #mata neuronas que no superen el threshold\n",
    "model.add(Dense(128,activation='relu')) #128 \n",
    "model.add(Dropout(0.25)) #vuelve a matar neurona que no superen el threshold\n",
    "model.add(Dense(3,activation='softmax')) #softmax en capa de salida para probabilidad y asegurar que sumen 1 en clasificacion\n",
    "model.compile(loss='categorical_crossentropy', optimizer='rmsprop', metrics=['accuracy']) # Let's train the model using RMSprop\n",
    "model.summary()\n",
    "model.fit_generator(\n",
    "        train_generator,\n",
    "        steps_per_epoch=len(train_generator.classes)//train_generator.batch_size, #samples//batch_size = 75\n",
    "        epochs=25,\n",
    "        validation_data=validation_generator,\n",
    "        validation_steps=len(validation_generator.classes)//validation_generator.batch_size) # = 18"
   ]
  },
  {
   "cell_type": "code",
   "execution_count": 26,
   "metadata": {},
   "outputs": [
    {
     "name": "stdout",
     "output_type": "stream",
     "text": [
      "Saved model to disk\n",
      "Loaded model from disk\n",
      "Accuracy validation:  0.4859154921182444\n"
     ]
    }
   ],
   "source": [
    "from keras.models import model_from_json\n",
    "\n",
    "# guardarlo en json\n",
    "model_json = model.to_json()\n",
    "with open(\"FF_sincambio.json\", \"w\") as json_file:\n",
    "    json_file.write(model_json)\n",
    "# serialize weights to HDF5\n",
    "model.save_weights(\"FF_sincambiopesos.h5\")\n",
    "print(\"Saved model to disk\")\n",
    " \n",
    "# cargar json y crear modelo\n",
    "json_file = open('FF_sincambio.json', 'r')\n",
    "loaded_model_json = json_file.read()\n",
    "json_file.close()\n",
    "loaded_model = model_from_json(loaded_model_json)\n",
    "# cargar pesos al nuevo modelo\n",
    "loaded_model.load_weights(\"FF_sincambiopesos.h5\")\n",
    "print(\"Loaded model from disk\")\n",
    "\n",
    "#Descomentar solo para compilar el modelo y testear, eso si, parece que cargarlo cambia un poco.\n",
    "'''\n",
    "loaded_model.compile(loss='categorical_crossentropy', optimizer='rmsprop', metrics=['accuracy'])\n",
    "print(\"Accuracy validation: \",loaded_model.evaluate_generator(generator=validation_generator,steps=len(validation_generator.classes)//validation_generator.batch_size)[1])\n",
    "'''"
   ]
  },
  {
   "cell_type": "markdown",
   "metadata": {},
   "source": [
    "En el entrenamiento se utilizan 25 épocas, una época es una pasada de los datos (tamaño del batch) por toda la red, en este caso se utilizan 75 iteraciones para pasar todos los datos en cada época ya que tenemos 2400 datos en el conjunto de entrenamiento y un tamaño de batch de 32. $\\frac{2400}{32} = 75$"
   ]
  },
  {
   "cell_type": "code",
   "execution_count": 15,
   "metadata": {},
   "outputs": [
    {
     "name": "stdout",
     "output_type": "stream",
     "text": [
      "Accuracy validation:  0.4894366201380609\n"
     ]
    }
   ],
   "source": [
    "print(\"Accuracy validation: \",model.evaluate_generator(generator=validation_generator,steps=len(validation_generator.classes)//validation_generator.batch_size)[1])"
   ]
  },
  {
   "cell_type": "markdown",
   "metadata": {},
   "source": [
    "Después de entrenar la red feed forward se tiene que la precisión en el conjunto de validación es del 50% aproximadamente"
   ]
  },
  {
   "cell_type": "markdown",
   "metadata": {},
   "source": [
    "> c) Utilice la red convolucional (**CNN**) entregada en el código para ser entrenada sobre los datos brutos, matrices RGB de píxeles, y las 3 clases a las que se enfrenta. Evalúe el modelo con la métrica *accuracy* sobre el conjunto de validación. Compare.\n",
    "\n",
    "Feedforward es una forma de aprendizaje mientras que CNN es un tipo de red, por lo que dependiendo de la forma de aprendizaje de una red CNN puede resultar en una FF CNN. En esta parte justamente se trabajará con este tipo ya que el modelo seguirá siendo secuencial, solamente que cambiarán las capas del modelo y se tendrán una arquitectura convolucional.\n",
    "\n",
    "Las CNN utilizan capas de extracción de atributos que tienen filtros convolucionales no lineales mientras que las últimas capas son implementaciones sencillas de perceptrón para trabajar con los datos extraídos de las capas anteriores.\n",
    "\n",
    "La activación que se utiliza en estas neuronas es \"ReLU\" (Rectified Linear Unit) que básicamente consiste en la introducción de no-linearidad en las neuronas, esto resulta bastante útil ya que los datos del mundo real no presentan linearidad la mayoría de los casos.\n",
    "\n",
    "$$ ReLU = max(0,input)$$\n",
    "\n",
    "Esto se aplica pixel a pixel y lo que hace es reemplazar los pixeles negativos por cero.\n",
    "\n",
    "¿Por qué ReLU y no TanH o Sigmoidal? $\\rightarrow$ ReLU ha probado ser mejor en la mayoría de casos.\n",
    "\n",
    "La primera capa siempre es una capa de convolución, lo que hace esto es una matriz filtro . En simples palabras, la convolución es un filtro que adquiere características interesantes y las pasas a la siguiente parte, entonces, a diferencia de la red FF pura tendremos filtros entre las capas.\n",
    "\n",
    "También las CNN implementan pooling que, en palabras simples, es: reducción de dimensionalidad mientras se retiene la información más importante, en este caso se usará MaxPool, una buen explicación es la siguiente imagen:\n",
    "\n",
    "<img src=\"https://ujwlkarn.files.wordpress.com/2016/08/screen-shot-2016-08-10-at-3-38-39-am.png?w=768\" title=\"MaxPool\" width=\"40%\" />\n",
    "\n",
    "Se toma el mayor elemento y se elige como el representativo del grupo. Además, al igual que en la imagen, se trabajará con una matriz 2x2 para pooling. La gracia de esto es ir disminuyendo de a poco la dimensionalidad del problema lo que lo hace más simple de trabajar posteriormente en las capas más cercanas a la capa de salida."
   ]
  },
  {
   "cell_type": "code",
   "execution_count": 21,
   "metadata": {},
   "outputs": [
    {
     "name": "stdout",
     "output_type": "stream",
     "text": [
      "_________________________________________________________________\n",
      "Layer (type)                 Output Shape              Param #   \n",
      "=================================================================\n",
      "conv2d_1 (Conv2D)            (None, 150, 150, 32)      896       \n",
      "_________________________________________________________________\n",
      "conv2d_2 (Conv2D)            (None, 148, 148, 32)      9248      \n",
      "_________________________________________________________________\n",
      "max_pooling2d_1 (MaxPooling2 (None, 74, 74, 32)        0         \n",
      "_________________________________________________________________\n",
      "dropout_5 (Dropout)          (None, 74, 74, 32)        0         \n",
      "_________________________________________________________________\n",
      "conv2d_3 (Conv2D)            (None, 74, 74, 64)        18496     \n",
      "_________________________________________________________________\n",
      "conv2d_4 (Conv2D)            (None, 72, 72, 64)        36928     \n",
      "_________________________________________________________________\n",
      "max_pooling2d_2 (MaxPooling2 (None, 36, 36, 64)        0         \n",
      "_________________________________________________________________\n",
      "dropout_6 (Dropout)          (None, 36, 36, 64)        0         \n",
      "_________________________________________________________________\n",
      "flatten_3 (Flatten)          (None, 82944)             0         \n",
      "_________________________________________________________________\n",
      "dense_7 (Dense)              (None, 128)               10616960  \n",
      "_________________________________________________________________\n",
      "dropout_7 (Dropout)          (None, 128)               0         \n",
      "_________________________________________________________________\n",
      "dense_8 (Dense)              (None, 3)                 387       \n",
      "=================================================================\n",
      "Total params: 10,682,915\n",
      "Trainable params: 10,682,915\n",
      "Non-trainable params: 0\n",
      "_________________________________________________________________\n",
      "Epoch 1/25\n",
      "75/75 [==============================] - 304s 4s/step - loss: 1.2054 - acc: 0.4317 - val_loss: 1.0004 - val_acc: 0.5158\n",
      "Epoch 2/25\n",
      "75/75 [==============================] - 291s 4s/step - loss: 1.0440 - acc: 0.4825 - val_loss: 0.9386 - val_acc: 0.5634\n",
      "Epoch 3/25\n",
      "75/75 [==============================] - 279s 4s/step - loss: 1.0036 - acc: 0.5233 - val_loss: 0.9884 - val_acc: 0.5211\n",
      "Epoch 4/25\n",
      "75/75 [==============================] - 272s 4s/step - loss: 0.9633 - acc: 0.5433 - val_loss: 0.9630 - val_acc: 0.5440\n",
      "Epoch 5/25\n",
      "75/75 [==============================] - 301s 4s/step - loss: 0.9243 - acc: 0.5621 - val_loss: 0.9740 - val_acc: 0.5299\n",
      "Epoch 6/25\n",
      "75/75 [==============================] - 281s 4s/step - loss: 0.8947 - acc: 0.5863 - val_loss: 0.9309 - val_acc: 0.5704\n",
      "Epoch 7/25\n",
      "75/75 [==============================] - 297s 4s/step - loss: 0.8719 - acc: 0.6029 - val_loss: 0.9068 - val_acc: 0.5968\n",
      "Epoch 8/25\n",
      "75/75 [==============================] - 291s 4s/step - loss: 0.8424 - acc: 0.6404 - val_loss: 0.8464 - val_acc: 0.6162\n",
      "Epoch 9/25\n",
      "75/75 [==============================] - 286s 4s/step - loss: 0.8011 - acc: 0.6583 - val_loss: 0.8232 - val_acc: 0.6532\n",
      "Epoch 10/25\n",
      "75/75 [==============================] - 272s 4s/step - loss: 0.7753 - acc: 0.6675 - val_loss: 0.7872 - val_acc: 0.6389\n",
      "Epoch 11/25\n",
      "75/75 [==============================] - 274s 4s/step - loss: 0.7660 - acc: 0.6679 - val_loss: 0.7588 - val_acc: 0.6673\n",
      "Epoch 12/25\n",
      "75/75 [==============================] - 274s 4s/step - loss: 0.7276 - acc: 0.7033 - val_loss: 0.7830 - val_acc: 0.6708\n",
      "Epoch 13/25\n",
      "75/75 [==============================] - 273s 4s/step - loss: 0.7388 - acc: 0.6887 - val_loss: 0.8824 - val_acc: 0.6250\n",
      "Epoch 14/25\n",
      "75/75 [==============================] - 272s 4s/step - loss: 0.7089 - acc: 0.7062 - val_loss: 1.3195 - val_acc: 0.5475\n",
      "Epoch 15/25\n",
      "75/75 [==============================] - 271s 4s/step - loss: 0.6920 - acc: 0.7046 - val_loss: 0.7337 - val_acc: 0.7095\n",
      "Epoch 16/25\n",
      "75/75 [==============================] - 273s 4s/step - loss: 0.6631 - acc: 0.7258 - val_loss: 0.7762 - val_acc: 0.6725\n",
      "Epoch 17/25\n",
      "75/75 [==============================] - 272s 4s/step - loss: 0.6696 - acc: 0.7258 - val_loss: 0.7241 - val_acc: 0.7025\n",
      "Epoch 18/25\n",
      "75/75 [==============================] - 272s 4s/step - loss: 0.6497 - acc: 0.7396 - val_loss: 0.6728 - val_acc: 0.7289\n",
      "Epoch 19/25\n",
      "75/75 [==============================] - 273s 4s/step - loss: 0.6495 - acc: 0.7392 - val_loss: 0.8022 - val_acc: 0.6461\n",
      "Epoch 20/25\n",
      "75/75 [==============================] - 273s 4s/step - loss: 0.6416 - acc: 0.7429 - val_loss: 0.7141 - val_acc: 0.6796\n",
      "Epoch 21/25\n",
      "75/75 [==============================] - 272s 4s/step - loss: 0.6406 - acc: 0.7279 - val_loss: 0.7322 - val_acc: 0.7007\n",
      "Epoch 22/25\n",
      "75/75 [==============================] - 273s 4s/step - loss: 0.6028 - acc: 0.7517 - val_loss: 1.0237 - val_acc: 0.6109\n",
      "Epoch 23/25\n",
      "75/75 [==============================] - 273s 4s/step - loss: 0.6023 - acc: 0.7604 - val_loss: 0.6275 - val_acc: 0.7201\n",
      "Epoch 24/25\n",
      "75/75 [==============================] - 273s 4s/step - loss: 0.5786 - acc: 0.7642 - val_loss: 0.7463 - val_acc: 0.6972\n",
      "Epoch 25/25\n",
      "75/75 [==============================] - 274s 4s/step - loss: 0.6052 - acc: 0.7512 - val_loss: 0.9012 - val_acc: 0.6567\n"
     ]
    },
    {
     "data": {
      "text/plain": [
       "<keras.callbacks.History at 0x146361102e8>"
      ]
     },
     "execution_count": 21,
     "metadata": {},
     "output_type": "execute_result"
    }
   ],
   "source": [
    "model = Sequential()\n",
    "model.add(Conv2D(32, (3, 3), padding='same',input_shape=train_generator.image_shape,activation='relu'))\n",
    "model.add(Conv2D(32, (3, 3),activation='relu'))\n",
    "model.add(MaxPool2D(pool_size=(2, 2)))\n",
    "model.add(Dropout(0.25)) #matar neuronas para evitar overfitting, forzar a aprender mejor informacion\n",
    "model.add(Conv2D(64, (3, 3), padding='same',activation='relu'))\n",
    "model.add(Conv2D(64, (3, 3),activation='relu'))\n",
    "model.add(MaxPool2D(pool_size=(2, 2)))\n",
    "model.add(Dropout(0.25)) #matar neuronas para evitar overfitting, forzar a aprender mejor informacion\n",
    "model.add(Flatten())\n",
    "model.add(Dense(128,activation='relu'))\n",
    "model.add(Dropout(0.5)) #matar neuronas para evitar overfitting, forzar a aprender mejor informacion\n",
    "model.add(Dense(len(train_generator.class_indices),activation='softmax'))\n",
    "model.compile(loss='categorical_crossentropy', optimizer='rmsprop', metrics=['accuracy']) # Let's train the model using RMSprop\n",
    "model.summary()\n",
    "model.fit_generator(\n",
    "        train_generator,\n",
    "        steps_per_epoch=len(train_generator.classes)//train_generator.batch_size, #samples//batch_size\n",
    "        epochs=25,\n",
    "        validation_data=validation_generator,\n",
    "        validation_steps=len(validation_generator.classes)//validation_generator.batch_size)"
   ]
  },
  {
   "cell_type": "code",
   "execution_count": 23,
   "metadata": {},
   "outputs": [
    {
     "name": "stdout",
     "output_type": "stream",
     "text": [
      "Saved model to disk\n",
      "Loaded model from disk\n"
     ]
    }
   ],
   "source": [
    "#guardar modelo post entrenamiento\n",
    "from keras.models import model_from_json\n",
    "\n",
    "# guardarlo en json\n",
    "model_json = model.to_json()\n",
    "with open(\"CNN_sincambio.json\", \"w\") as json_file:\n",
    "    json_file.write(model_json)\n",
    "# serialize weights to HDF5\n",
    "model.save_weights(\"CNN_sincambiopesos.h5\")\n",
    "print(\"Saved model to disk\")\n",
    " \n",
    "# cargar json y crear modelo\n",
    "json_file = open('CNN_sincambio.json', 'r')\n",
    "loaded_model_json = json_file.read()\n",
    "json_file.close()\n",
    "loaded_model = model_from_json(loaded_model_json)\n",
    "# cargar pesos al nuevo modelo\n",
    "loaded_model.load_weights(\"CNN_sincambiopesos.h5\")\n",
    "print(\"Loaded model from disk\")\n",
    "\n",
    "''' # Descomentar solo para volver a compilar y probar el modelo\n",
    "loaded_model.compile(loss='categorical_crossentropy', optimizer='rmsprop', metrics=['accuracy'])\n",
    "print(\"Accuracy validation: \",loaded_model.evaluate_generator(generator=validation_generator,steps=len(validation_generator.classes)//validation_generator.batch_size)[1])\n",
    "'''"
   ]
  },
  {
   "cell_type": "markdown",
   "metadata": {},
   "source": [
    "Comentando respecto al entrenamiendo de la CNN respecto a la FF (feedforward) el tiempo de entrenamiento es muchísimo mayor, 2 horas vs 15 minutos. Aunque a diferencia de la FF, se nota una mejoría en el accuracy durante el entrenamiento, por ejemplo, comparando entre la época 1 donde la accuracy es similar a la presentada en la red FF y la época 20 donde la accuracy de entrenamiento ya ronda los 0.75. En base a esto podemos decir que CNN aprende mejor que FF los atributos de la imágenes que las distinguen."
   ]
  },
  {
   "cell_type": "code",
   "execution_count": 22,
   "metadata": {},
   "outputs": [
    {
     "name": "stdout",
     "output_type": "stream",
     "text": [
      "Accuracy validation:  0.6602112676056338\n"
     ]
    }
   ],
   "source": [
    "print(\"Accuracy validation: \",model.evaluate_generator(generator=validation_generator,steps=len(validation_generator.classes)//validation_generator.batch_size)[1])"
   ]
  },
  {
   "cell_type": "markdown",
   "metadata": {},
   "source": [
    "Al probar con el mismo conjunto de validación, la precisión es aproximadamente un 20% más alta que el caso anterior, lo que muestra la superioridad de esta arquitectura de red neuronal en el ámbito de reconocimiento de imágenes. También calcularemos la matriz de confusión para comparar con el siguiente ejercicio"
   ]
  },
  {
   "cell_type": "code",
   "execution_count": 48,
   "metadata": {},
   "outputs": [
    {
     "name": "stdout",
     "output_type": "stream",
     "text": [
      "Loaded model from disk\n",
      "Accuracy validation:  0.6475694444444444\n"
     ]
    }
   ],
   "source": [
    "from sklearn.metrics import confusion_matrix \n",
    "\n",
    "# cargar json y crear modelo\n",
    "json_file = open('CNN_sincambio.json', 'r')\n",
    "loaded_model_json = json_file.read()\n",
    "json_file.close()\n",
    "loaded_model = model_from_json(loaded_model_json)\n",
    "# cargar pesos al nuevo modelo\n",
    "loaded_model.load_weights(\"CNN_sincambiopesos.h5\")\n",
    "print(\"Loaded model from disk\")\n",
    "\n",
    "# Descomentar solo para volver a compilar y probar el modelo\n",
    "loaded_model.compile(loss='categorical_crossentropy', optimizer='rmsprop', metrics=['accuracy'])\n",
    "print(\"Accuracy validation: \",loaded_model.evaluate_generator(generator=validation_generator,steps=len(validation_generator.classes)//validation_generator.batch_size)[1])\n",
    "\n",
    "\n",
    "\n",
    "Y_pred = loaded_model.predict_generator(validation_generator,len(validation_generator.classes)//validation_generator.batch_size+1)\n",
    "y_pred = np.argmax(Y_pred, axis=1)\n",
    "confusion_matrix = confusion_matrix(validation_generator.classes, y_pred)"
   ]
  },
  {
   "cell_type": "code",
   "execution_count": 49,
   "metadata": {},
   "outputs": [
    {
     "name": "stdout",
     "output_type": "stream",
     "text": [
      "Aciertos:  208\n",
      "Fallos:  392\n",
      "Matriz de confusión \n",
      "\n"
     ]
    },
    {
     "data": {
      "text/html": [
       "<div>\n",
       "<style scoped>\n",
       "    .dataframe tbody tr th:only-of-type {\n",
       "        vertical-align: middle;\n",
       "    }\n",
       "\n",
       "    .dataframe tbody tr th {\n",
       "        vertical-align: top;\n",
       "    }\n",
       "\n",
       "    .dataframe thead th {\n",
       "        text-align: right;\n",
       "    }\n",
       "</style>\n",
       "<table border=\"1\" class=\"dataframe\">\n",
       "  <thead>\n",
       "    <tr style=\"text-align: right;\">\n",
       "      <th></th>\n",
       "      <th></th>\n",
       "      <th>1</th>\n",
       "      <th>2</th>\n",
       "      <th>3</th>\n",
       "    </tr>\n",
       "  </thead>\n",
       "  <tbody>\n",
       "    <tr>\n",
       "      <th>0</th>\n",
       "      <td>1</td>\n",
       "      <td>46</td>\n",
       "      <td>53</td>\n",
       "      <td>101</td>\n",
       "    </tr>\n",
       "    <tr>\n",
       "      <th>1</th>\n",
       "      <td>2</td>\n",
       "      <td>34</td>\n",
       "      <td>49</td>\n",
       "      <td>117</td>\n",
       "    </tr>\n",
       "    <tr>\n",
       "      <th>2</th>\n",
       "      <td>3</td>\n",
       "      <td>44</td>\n",
       "      <td>43</td>\n",
       "      <td>113</td>\n",
       "    </tr>\n",
       "  </tbody>\n",
       "</table>\n",
       "</div>"
      ],
      "text/plain": [
       "       1   2    3\n",
       "0  1  46  53  101\n",
       "1  2  34  49  117\n",
       "2  3  44  43  113"
      ]
     },
     "execution_count": 49,
     "metadata": {},
     "output_type": "execute_result"
    }
   ],
   "source": [
    "import pandas as pd\n",
    "dictio = {'':[1,2,3],1:confusion_matrix[:,0],2:confusion_matrix[:,1],3:confusion_matrix[:,2]}\n",
    "tabla = pd.DataFrame.from_dict(dictio)\n",
    "aciertos = 0\n",
    "fallos = 0\n",
    "for i in range(confusion_matrix.shape[0]):\n",
    "    for j in range(confusion_matrix.shape[1]):\n",
    "        if i == j:\n",
    "            aciertos += confusion_matrix[i,j]\n",
    "        else:\n",
    "            fallos += confusion_matrix[i,j]\n",
    "print(\"Aciertos: \",aciertos)\n",
    "print(\"Fallos: \",fallos)\n",
    "print(\"Matriz de confusión \\n\")\n",
    "tabla"
   ]
  },
  {
   "cell_type": "markdown",
   "metadata": {},
   "source": [
    "A partir de la matriz de confusión que se ve que la precisión y los aciertos no corresponden. Esto se comentará nuevamente en la siguiente pregunta.\n",
    "\n",
    "> d) Genere un conjunto datos con incorrecta etiquetación de manera manual y vea si el modelo convolucional se sigue comportando de la misma manera. Para esto tome 100 imágenes aleatorias de entrenamiento de la carpeta *hot dog* y 100 imágenes aleatorias de entrenamiento de la carpeta *hamburger* e intercambielas, sin manipular las imágenes de la carpeta *pizza* y con el conjunto de validación intacto. Genere las matrices de confusión en el conjunto de validación para visualizar cómo afectó al modelo la corrupción realizada a los datos.\n",
    "\n",
    "Ahora se mal-etiquetan algunos datos, manualmente se intercambiaron 100 hamburguesas por 100 hot dogs y se observará qué sucede con las dos redes trabajadas anteriormente.\n",
    "\n",
    "Recordando que una red FF corresponde a aprendizaje supervisado, se espera que una mala etiquetación de los datos produzca bajas en la precisión de las predicciones tanto en entrenamiento como en validación. Además de que esta red se entrena utilizando backpropagation, como se corrige cuando se comete un error el hecho de tener hot dogs como hamburguesas y hot dogs y hamburguesas de la misma manera se estarían corrigiendo errores y además clasificaciones correctas, ya que un hot dog en la carpeta hamburguesas podría ser catalogado como hot dog, lo que es bueno pero su label es el incorrecto y eso debería corregirse."
   ]
  },
  {
   "cell_type": "code",
   "execution_count": 27,
   "metadata": {},
   "outputs": [
    {
     "name": "stdout",
     "output_type": "stream",
     "text": [
      "Found 2400 images belonging to 3 classes.\n",
      "Found 600 images belonging to 3 classes.\n"
     ]
    }
   ],
   "source": [
    "#Es necesario cambiar los generadores\n",
    "train_datagen = ImageDataGenerator(\n",
    "        rescale=1./255, #rescalamiento post-transformacion \n",
    "        shear_range=0.2, #angulo de desplazamiento, shearing es mas sencillo de hacer que transformacion ortogonal\n",
    "        #rotar levemente la imagen en sentido antihorario\n",
    "        zoom_range=0.2,\n",
    "        horizontal_flip=True) #flips input horizontally -> vector\n",
    "\n",
    "test_datagen = ImageDataGenerator(rescale=1./255) #no transformation\n",
    "train_generator = train_datagen.flow_from_directory(\n",
    "        'food_data/train',\n",
    "        target_size=(150, 150),\n",
    "        color_mode='rgb',\n",
    "        batch_size=32)\n",
    "\n",
    "validation_generator = test_datagen.flow_from_directory(\n",
    "        'food_data/val',\n",
    "        target_size=(150, 150),\n",
    "        color_mode='rgb',\n",
    "        batch_size=32)"
   ]
  },
  {
   "cell_type": "code",
   "execution_count": 28,
   "metadata": {},
   "outputs": [
    {
     "name": "stdout",
     "output_type": "stream",
     "text": [
      "_________________________________________________________________\n",
      "Layer (type)                 Output Shape              Param #   \n",
      "=================================================================\n",
      "conv2d_5 (Conv2D)            (None, 150, 150, 32)      896       \n",
      "_________________________________________________________________\n",
      "conv2d_6 (Conv2D)            (None, 148, 148, 32)      9248      \n",
      "_________________________________________________________________\n",
      "max_pooling2d_3 (MaxPooling2 (None, 74, 74, 32)        0         \n",
      "_________________________________________________________________\n",
      "dropout_10 (Dropout)         (None, 74, 74, 32)        0         \n",
      "_________________________________________________________________\n",
      "conv2d_7 (Conv2D)            (None, 74, 74, 64)        18496     \n",
      "_________________________________________________________________\n",
      "conv2d_8 (Conv2D)            (None, 72, 72, 64)        36928     \n",
      "_________________________________________________________________\n",
      "max_pooling2d_4 (MaxPooling2 (None, 36, 36, 64)        0         \n",
      "_________________________________________________________________\n",
      "dropout_11 (Dropout)         (None, 36, 36, 64)        0         \n",
      "_________________________________________________________________\n",
      "flatten_5 (Flatten)          (None, 82944)             0         \n",
      "_________________________________________________________________\n",
      "dense_12 (Dense)             (None, 128)               10616960  \n",
      "_________________________________________________________________\n",
      "dropout_12 (Dropout)         (None, 128)               0         \n",
      "_________________________________________________________________\n",
      "dense_13 (Dense)             (None, 3)                 387       \n",
      "=================================================================\n",
      "Total params: 10,682,915\n",
      "Trainable params: 10,682,915\n",
      "Non-trainable params: 0\n",
      "_________________________________________________________________\n",
      "Epoch 1/25\n",
      "75/75 [==============================] - 276s 4s/step - loss: 1.1639 - acc: 0.4042 - val_loss: 1.0396 - val_acc: 0.4983\n",
      "Epoch 2/25\n",
      "75/75 [==============================] - 276s 4s/step - loss: 1.0679 - acc: 0.4479 - val_loss: 1.0190 - val_acc: 0.5211\n",
      "Epoch 3/25\n",
      "75/75 [==============================] - 279s 4s/step - loss: 1.0265 - acc: 0.4988 - val_loss: 0.9957 - val_acc: 0.5088\n",
      "Epoch 4/25\n",
      "75/75 [==============================] - 281s 4s/step - loss: 0.9839 - acc: 0.5096 - val_loss: 0.9984 - val_acc: 0.5018\n",
      "Epoch 5/25\n",
      "75/75 [==============================] - 276s 4s/step - loss: 0.9559 - acc: 0.5346 - val_loss: 0.9586 - val_acc: 0.5546\n",
      "Epoch 6/25\n",
      "75/75 [==============================] - 280s 4s/step - loss: 0.9439 - acc: 0.5571 - val_loss: 0.8488 - val_acc: 0.5933\n",
      "Epoch 7/25\n",
      "75/75 [==============================] - 275s 4s/step - loss: 0.9354 - acc: 0.5508 - val_loss: 0.9503 - val_acc: 0.5546\n",
      "Epoch 8/25\n",
      "75/75 [==============================] - 276s 4s/step - loss: 0.8977 - acc: 0.5887 - val_loss: 0.8270 - val_acc: 0.6127\n",
      "Epoch 9/25\n",
      "75/75 [==============================] - 271s 4s/step - loss: 0.8574 - acc: 0.5879 - val_loss: 0.8243 - val_acc: 0.6127\n",
      "Epoch 10/25\n",
      "75/75 [==============================] - 275s 4s/step - loss: 0.8556 - acc: 0.6171 - val_loss: 0.7838 - val_acc: 0.6356\n",
      "Epoch 11/25\n",
      "75/75 [==============================] - 287s 4s/step - loss: 0.8410 - acc: 0.6100 - val_loss: 0.8196 - val_acc: 0.6180\n",
      "Epoch 12/25\n",
      "75/75 [==============================] - 289s 4s/step - loss: 0.8256 - acc: 0.6329 - val_loss: 0.9172 - val_acc: 0.5880\n",
      "Epoch 13/25\n",
      "75/75 [==============================] - 286s 4s/step - loss: 0.7887 - acc: 0.6437 - val_loss: 0.7296 - val_acc: 0.6673\n",
      "Epoch 14/25\n",
      "75/75 [==============================] - 277s 4s/step - loss: 0.7776 - acc: 0.6429 - val_loss: 0.7017 - val_acc: 0.6919\n",
      "Epoch 15/25\n",
      "75/75 [==============================] - 275s 4s/step - loss: 0.7837 - acc: 0.6388 - val_loss: 0.8158 - val_acc: 0.6373\n",
      "Epoch 16/25\n",
      "75/75 [==============================] - 272s 4s/step - loss: 0.7453 - acc: 0.6750 - val_loss: 0.7718 - val_acc: 0.6761\n",
      "Epoch 17/25\n",
      "75/75 [==============================] - 276s 4s/step - loss: 0.7509 - acc: 0.6654 - val_loss: 0.7148 - val_acc: 0.6725\n",
      "Epoch 18/25\n",
      "75/75 [==============================] - 286s 4s/step - loss: 0.7321 - acc: 0.6783 - val_loss: 1.0166 - val_acc: 0.5370\n",
      "Epoch 19/25\n",
      "75/75 [==============================] - 279s 4s/step - loss: 0.7405 - acc: 0.6779 - val_loss: 0.7246 - val_acc: 0.6585\n",
      "Epoch 20/25\n",
      "75/75 [==============================] - 279s 4s/step - loss: 0.7382 - acc: 0.6796 - val_loss: 0.9819 - val_acc: 0.5747\n",
      "Epoch 21/25\n",
      "75/75 [==============================] - 276s 4s/step - loss: 0.7305 - acc: 0.6846 - val_loss: 0.7685 - val_acc: 0.6549\n",
      "Epoch 22/25\n",
      "75/75 [==============================] - 279s 4s/step - loss: 0.6906 - acc: 0.6871 - val_loss: 0.6874 - val_acc: 0.7060\n",
      "Epoch 23/25\n",
      "75/75 [==============================] - 278s 4s/step - loss: 0.6758 - acc: 0.7146 - val_loss: 0.7525 - val_acc: 0.7025\n",
      "Epoch 24/25\n",
      "75/75 [==============================] - 281s 4s/step - loss: 0.6971 - acc: 0.6987 - val_loss: 0.7448 - val_acc: 0.6408\n",
      "Epoch 25/25\n",
      "75/75 [==============================] - 275s 4s/step - loss: 0.6876 - acc: 0.6958 - val_loss: 0.7741 - val_acc: 0.6813\n"
     ]
    },
    {
     "data": {
      "text/plain": [
       "<keras.callbacks.History at 0x1463e639fd0>"
      ]
     },
     "execution_count": 28,
     "metadata": {},
     "output_type": "execute_result"
    }
   ],
   "source": [
    "#CNN\n",
    "model = Sequential()\n",
    "model.add(Conv2D(32, (3, 3), padding='same',input_shape=train_generator.image_shape,activation='relu'))\n",
    "model.add(Conv2D(32, (3, 3),activation='relu'))\n",
    "model.add(MaxPool2D(pool_size=(2, 2)))\n",
    "model.add(Dropout(0.25)) #matar neuronas para evitar overfitting, forzar a aprender mejor informacion\n",
    "model.add(Conv2D(64, (3, 3), padding='same',activation='relu'))\n",
    "model.add(Conv2D(64, (3, 3),activation='relu'))\n",
    "model.add(MaxPool2D(pool_size=(2, 2)))\n",
    "model.add(Dropout(0.25)) #matar neuronas para evitar overfitting, forzar a aprender mejor informacion\n",
    "model.add(Flatten())\n",
    "model.add(Dense(128,activation='relu'))\n",
    "model.add(Dropout(0.5)) #matar neuronas para evitar overfitting, forzar a aprender mejor informacion\n",
    "model.add(Dense(len(train_generator.class_indices),activation='softmax'))\n",
    "model.compile(loss='categorical_crossentropy', optimizer='rmsprop', metrics=['accuracy']) # Let's train the model using RMSprop\n",
    "model.summary()\n",
    "model.fit_generator(\n",
    "        train_generator,\n",
    "        steps_per_epoch=len(train_generator.classes)//train_generator.batch_size, #samples//batch_size\n",
    "        epochs=25,\n",
    "        validation_data=validation_generator,\n",
    "        validation_steps=len(validation_generator.classes)//validation_generator.batch_size)"
   ]
  },
  {
   "cell_type": "code",
   "execution_count": 29,
   "metadata": {},
   "outputs": [
    {
     "name": "stdout",
     "output_type": "stream",
     "text": [
      "Saved model to disk\n",
      "Loaded model from disk\n"
     ]
    },
    {
     "data": {
      "text/plain": [
       "' # Descomentar solo para volver a compilar y probar el modelo\\nloaded_model.compile(loss=\\'categorical_crossentropy\\', optimizer=\\'rmsprop\\', metrics=[\\'accuracy\\'])\\nprint(\"Accuracy validation: \",loaded_model.evaluate_generator(generator=validation_generator,steps=len(validation_generator.classes)//validation_generator.batch_size)[1])\\n'"
      ]
     },
     "execution_count": 29,
     "metadata": {},
     "output_type": "execute_result"
    }
   ],
   "source": [
    "#guardar modelo post entrenamiento\n",
    "from keras.models import model_from_json\n",
    "\n",
    "# guardarlo en json\n",
    "model_json = model.to_json()\n",
    "with open(\"CNN_concambio.json\", \"w\") as json_file:\n",
    "    json_file.write(model_json)\n",
    "# serialize weights to HDF5\n",
    "model.save_weights(\"CNN_concambiopesos.h5\")\n",
    "print(\"Saved model to disk\")\n",
    " \n",
    "# cargar json y crear modelo\n",
    "json_file = open('CNN_concambio.json', 'r')\n",
    "loaded_model_json = json_file.read()\n",
    "json_file.close()\n",
    "loaded_model = model_from_json(loaded_model_json)\n",
    "# cargar pesos al nuevo modelo\n",
    "loaded_model.load_weights(\"CNN_concambiopesos.h5\")\n",
    "print(\"Loaded model from disk\")\n",
    "\n",
    "''' # Descomentar solo para volver a compilar y probar el modelo\n",
    "loaded_model.compile(loss='categorical_crossentropy', optimizer='rmsprop', metrics=['accuracy'])\n",
    "print(\"Accuracy validation: \",loaded_model.evaluate_generator(generator=validation_generator,steps=len(validation_generator.classes)//validation_generator.batch_size)[1])\n",
    "'''"
   ]
  },
  {
   "cell_type": "markdown",
   "metadata": {},
   "source": [
    "Sorprendentemente la precisión se acerca a la precisión 0.75 del conjunto de entrenamiento anterior a medida que continua el entrenamiento, pero esto aún no indica mucho porque sigue siendo el conjunto de entrenamiento y es posible que parte de esta precisión sea por overfitting por lo que se probará la precisión en el conjunto de validación y además se verá la matriz de confusión."
   ]
  },
  {
   "cell_type": "code",
   "execution_count": 30,
   "metadata": {},
   "outputs": [
    {
     "name": "stdout",
     "output_type": "stream",
     "text": [
      "Accuracy on validation:  0.6901408450704225\n"
     ]
    }
   ],
   "source": [
    "print(\"Accuracy on validation: \",model.evaluate_generator(generator=validation_generator,steps=len(validation_generator.classes)//validation_generator.batch_size)[1])"
   ]
  },
  {
   "cell_type": "markdown",
   "metadata": {},
   "source": [
    "La precisión es ligeramente mejor que la anterior, esto es muy interesante, incluso se podría decir que mezclar las imágenes llevó a una obtención de cualidades un poco más pulidas que permitían diferenciar entre las clases Hamburguesa y Hot Dog.\n",
    "\n",
    "Ahora se verá la matriz de confusión del modelo, esta matriz resume las clasificaciones del modelo en las predicciones v/s las verdaderas."
   ]
  },
  {
   "cell_type": "code",
   "execution_count": 32,
   "metadata": {},
   "outputs": [],
   "source": [
    "from sklearn.metrics import confusion_matrix \n",
    "Y_pred = model.predict_generator(validation_generator,len(validation_generator.classes)//validation_generator.batch_size+1)\n",
    "y_pred = np.argmax(Y_pred, axis=1)\n",
    "confusion_matrix = confusion_matrix(validation_generator.classes, y_pred)"
   ]
  },
  {
   "cell_type": "code",
   "execution_count": 45,
   "metadata": {},
   "outputs": [
    {
     "name": "stdout",
     "output_type": "stream",
     "text": [
      "Aciertos:  185\n",
      "Fallos:  415\n",
      "Matriz de confusión \n",
      "\n"
     ]
    },
    {
     "data": {
      "text/html": [
       "<div>\n",
       "<style scoped>\n",
       "    .dataframe tbody tr th:only-of-type {\n",
       "        vertical-align: middle;\n",
       "    }\n",
       "\n",
       "    .dataframe tbody tr th {\n",
       "        vertical-align: top;\n",
       "    }\n",
       "\n",
       "    .dataframe thead th {\n",
       "        text-align: right;\n",
       "    }\n",
       "</style>\n",
       "<table border=\"1\" class=\"dataframe\">\n",
       "  <thead>\n",
       "    <tr style=\"text-align: right;\">\n",
       "      <th></th>\n",
       "      <th></th>\n",
       "      <th>1</th>\n",
       "      <th>2</th>\n",
       "      <th>3</th>\n",
       "    </tr>\n",
       "  </thead>\n",
       "  <tbody>\n",
       "    <tr>\n",
       "      <th>0</th>\n",
       "      <td>1</td>\n",
       "      <td>84</td>\n",
       "      <td>32</td>\n",
       "      <td>84</td>\n",
       "    </tr>\n",
       "    <tr>\n",
       "      <th>1</th>\n",
       "      <td>2</td>\n",
       "      <td>98</td>\n",
       "      <td>28</td>\n",
       "      <td>74</td>\n",
       "    </tr>\n",
       "    <tr>\n",
       "      <th>2</th>\n",
       "      <td>3</td>\n",
       "      <td>102</td>\n",
       "      <td>25</td>\n",
       "      <td>73</td>\n",
       "    </tr>\n",
       "  </tbody>\n",
       "</table>\n",
       "</div>"
      ],
      "text/plain": [
       "        1   2   3\n",
       "0  1   84  32  84\n",
       "1  2   98  28  74\n",
       "2  3  102  25  73"
      ]
     },
     "execution_count": 45,
     "metadata": {},
     "output_type": "execute_result"
    }
   ],
   "source": [
    "import pandas as pd\n",
    "dictio = {'':[1,2,3],1:confusion_matrix[:,0],2:confusion_matrix[:,1],3:confusion_matrix[:,2]}\n",
    "tabla = pd.DataFrame.from_dict(dictio)\n",
    "aciertos = 0\n",
    "fallos = 0\n",
    "for i in range(confusion_matrix.shape[0]):\n",
    "    for j in range(confusion_matrix.shape[1]):\n",
    "        if i == j:\n",
    "            aciertos += confusion_matrix[i,j]\n",
    "        else:\n",
    "            fallos += confusion_matrix[i,j]\n",
    "print(\"Aciertos: \",aciertos)\n",
    "print(\"Fallos: \",fallos)\n",
    "print(\"Matriz de confusión \\n\")\n",
    "tabla"
   ]
  },
  {
   "cell_type": "markdown",
   "metadata": {},
   "source": [
    "Se observa algo interesante, resulta que el 69% de accuracy de la red, es en realidad la cantidad de fallos $\\frac{415}{600} \\sim 0.69$. No se tiene alguna explicación respecto a esto mas que la red aprende a clasificar mal en vez de a clasificar bien. Comparando con la matriz de confusión anterior se tiene lo mismo, no se explica por qué la precisión es calculada en base a los fallos, esto significa que la red no mejora la precisión, si no que empeora levemente como se puede observar al comparar las cantidades de aciertos y fallas, esto quiere decir que la Red FF pura es mejor ya que su precisión, o mejor dicho, no precisión de 0.5 le deja la precisión más alta en comparación a las CNN."
   ]
  },
  {
   "cell_type": "markdown",
   "metadata": {},
   "source": [
    "<a id=\"refs\"></a>\n",
    "## Referencias\n",
    "[1] http://archive.ics.uci.edu/ml/datasets/Wine+Quality  \n",
    "[2] http://scikit-learn.org/stable/modules/generated/sklearn.metrics.f1_score.html  \n",
    "[3] http://deeplearning.net/software/theano/tutorial/conv_arithmetic.html, http://colah.github.io/posts/2014-07-Understanding-Convolutions/    \n",
    "[4] https://www.vision.ee.ethz.ch/datasets_extra/food-101/  \n",
    "[5] Box, G. E. P., Jenkins, G. M. and Reinsel, G. C. (1976), *Time Series Analysis, Forecasting and Control*. Third Edition. Holden-Day. Series G.  \n",
    "[6] https://datascience.stackexchange.com/questions/15989/micro-average-vs-macro-average-performance-in-a-multiclass-classification-settin"
   ]
  }
 ],
 "metadata": {
  "kernelspec": {
   "display_name": "Python 3",
   "language": "python",
   "name": "python3"
  },
  "language_info": {
   "codemirror_mode": {
    "name": "ipython",
    "version": 3
   },
   "file_extension": ".py",
   "mimetype": "text/x-python",
   "name": "python",
   "nbconvert_exporter": "python",
   "pygments_lexer": "ipython3",
   "version": "3.6.2"
  }
 },
 "nbformat": 4,
 "nbformat_minor": 2
}
